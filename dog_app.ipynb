{
 "cells": [
  {
   "cell_type": "markdown",
   "metadata": {},
   "source": [
    "# Artificial Intelligence Nanodegree\n",
    "\n",
    "## Convolutional Neural Networks\n",
    "\n",
    "## Project: Write an Algorithm for a Dog Identification App \n",
    "\n",
    "---\n",
    "\n",
    "In this notebook, some template code has already been provided for you, and you will need to implement additional functionality to successfully complete this project. You will not need to modify the included code beyond what is requested. Sections that begin with **'(IMPLEMENTATION)'** in the header indicate that the following block of code will require additional functionality which you must provide. Instructions will be provided for each section, and the specifics of the implementation are marked in the code block with a 'TODO' statement. Please be sure to read the instructions carefully! \n",
    "\n",
    "> **Note**: Once you have completed all of the code implementations, you need to finalize your work by exporting the iPython Notebook as an HTML document. Before exporting the notebook to html, all of the code cells need to have been run so that reviewers can see the final implementation and output. You can then export the notebook by using the menu above and navigating to  \\n\",\n",
    "    \"**File -> Download as -> HTML (.html)**. Include the finished document along with this notebook as your submission.\n",
    "\n",
    "In addition to implementing code, there will be questions that you must answer which relate to the project and your implementation. Each section where you will answer a question is preceded by a **'Question X'** header. Carefully read each question and provide thorough answers in the following text boxes that begin with **'Answer:'**. Your project submission will be evaluated based on your answers to each of the questions and the implementation you provide.\n",
    "\n",
    ">**Note:** Code and Markdown cells can be executed using the **Shift + Enter** keyboard shortcut.  Markdown cells can be edited by double-clicking the cell to enter edit mode.\n",
    "\n",
    "The rubric contains _optional_ \"Stand Out Suggestions\" for enhancing the project beyond the minimum requirements. If you decide to pursue the \"Stand Out Suggestions\", you should include the code in this IPython notebook.\n",
    "\n",
    "\n",
    "\n",
    "---\n",
    "### Why We're Here \n",
    "\n",
    "In this notebook, you will make the first steps towards developing an algorithm that could be used as part of a mobile or web app.  At the end of this project, your code will accept any user-supplied image as input.  If a dog is detected in the image, it will provide an estimate of the dog's breed.  If a human is detected, it will provide an estimate of the dog breed that is most resembling.  The image below displays potential sample output of your finished project (... but we expect that each student's algorithm will behave differently!). \n",
    "\n",
    "![Sample Dog Output](images/sample_dog_output.png)\n",
    "\n",
    "In this real-world setting, you will need to piece together a series of models to perform different tasks; for instance, the algorithm that detects humans in an image will be different from the CNN that infers dog breed.  There are many points of possible failure, and no perfect algorithm exists.  Your imperfect solution will nonetheless create a fun user experience!\n",
    "\n",
    "### The Road Ahead\n",
    "\n",
    "We break the notebook into separate steps.  Feel free to use the links below to navigate the notebook.\n",
    "\n",
    "* [Step 0](#step0): Import Datasets\n",
    "* [Step 1](#step1): Detect Humans\n",
    "* [Step 2](#step2): Detect Dogs\n",
    "* [Step 3](#step3): Create a CNN to Classify Dog Breeds (from Scratch)\n",
    "* [Step 4](#step4): Use a CNN to Classify Dog Breeds (using Transfer Learning)\n",
    "* [Step 5](#step5): Create a CNN to Classify Dog Breeds (using Transfer Learning)\n",
    "* [Step 6](#step6): Write your Algorithm\n",
    "* [Step 7](#step7): Test Your Algorithm\n",
    "\n",
    "---\n",
    "<a id='step0'></a>\n",
    "## Step 0: Import Datasets\n",
    "\n",
    "### Import Dog Dataset\n",
    "\n",
    "In the code cell below, we import a dataset of dog images.  We populate a few variables through the use of the `load_files` function from the scikit-learn library:\n",
    "- `train_files`, `valid_files`, `test_files` - numpy arrays containing file paths to images\n",
    "- `train_targets`, `valid_targets`, `test_targets` - numpy arrays containing onehot-encoded classification labels \n",
    "- `dog_names` - list of string-valued dog breed names for translating labels"
   ]
  },
  {
   "cell_type": "code",
   "execution_count": 7,
   "metadata": {
    "collapsed": true
   },
   "outputs": [],
   "source": [
    "# Ensure that tensorflow does not reserve the whole GPU from the get go\n",
    "import tensorflow as tf\n",
    "from keras import backend as K\n",
    "config = tf.ConfigProto()\n",
    "config.gpu_options.allow_growth=True\n",
    "sess = tf.Session(config=config)\n",
    "K.set_session(sess)"
   ]
  },
  {
   "cell_type": "code",
   "execution_count": 8,
   "metadata": {},
   "outputs": [
    {
     "name": "stdout",
     "output_type": "stream",
     "text": [
      "There are 133 total dog categories.\n",
      "There are 8351 total dog images.\n",
      "\n",
      "There are 6680 training dog images.\n",
      "There are 835 validation dog images.\n",
      "There are 836 test dog images.\n"
     ]
    }
   ],
   "source": [
    "from sklearn.datasets import load_files       \n",
    "from keras.utils import np_utils\n",
    "import numpy as np\n",
    "from glob import glob\n",
    "\n",
    "# define function to load train, test, and validation datasets\n",
    "def load_dataset(path):\n",
    "    data = load_files(path)\n",
    "    dog_files = np.array(data['filenames'])\n",
    "    dog_targets = np_utils.to_categorical(np.array(data['target']), 133)\n",
    "    return dog_files, dog_targets\n",
    "\n",
    "# load train, test, and validation datasets\n",
    "train_files, train_targets = load_dataset('dogImages/train')\n",
    "valid_files, valid_targets = load_dataset('dogImages/valid')\n",
    "test_files, test_targets = load_dataset('dogImages/test')\n",
    "\n",
    "# load list of dog names\n",
    "dog_names = [item[20:-1] for item in sorted(glob(\"dogImages/train/*/\"))]\n",
    "\n",
    "# print statistics about the dataset\n",
    "print('There are %d total dog categories.' % len(dog_names))\n",
    "print('There are %s total dog images.\\n' % len(np.hstack([train_files, valid_files, test_files])))\n",
    "print('There are %d training dog images.' % len(train_files))\n",
    "print('There are %d validation dog images.' % len(valid_files))\n",
    "print('There are %d test dog images.'% len(test_files))"
   ]
  },
  {
   "cell_type": "markdown",
   "metadata": {},
   "source": [
    "### Import Human Dataset\n",
    "\n",
    "In the code cell below, we import a dataset of human images, where the file paths are stored in the numpy array `human_files`."
   ]
  },
  {
   "cell_type": "code",
   "execution_count": 9,
   "metadata": {},
   "outputs": [
    {
     "name": "stdout",
     "output_type": "stream",
     "text": [
      "There are 13233 total human images.\n"
     ]
    }
   ],
   "source": [
    "import random\n",
    "random.seed(8675309)\n",
    "\n",
    "# load filenames in shuffled human dataset\n",
    "human_files = np.array(glob(\"lfw/*/*\"))\n",
    "random.shuffle(human_files)\n",
    "\n",
    "# print statistics about the dataset\n",
    "print('There are %d total human images.' % len(human_files))"
   ]
  },
  {
   "cell_type": "markdown",
   "metadata": {},
   "source": [
    "---\n",
    "<a id='step1'></a>\n",
    "## Step 1: Detect Humans\n",
    "\n",
    "We use OpenCV's implementation of [Haar feature-based cascade classifiers](http://docs.opencv.org/trunk/d7/d8b/tutorial_py_face_detection.html) to detect human faces in images.  OpenCV provides many pre-trained face detectors, stored as XML files on [github](https://github.com/opencv/opencv/tree/master/data/haarcascades).  We have downloaded one of these detectors and stored it in the `haarcascades` directory.\n",
    "\n",
    "In the next code cell, we demonstrate how to use this detector to find human faces in a sample image."
   ]
  },
  {
   "cell_type": "code",
   "execution_count": 10,
   "metadata": {
    "scrolled": true
   },
   "outputs": [
    {
     "name": "stdout",
     "output_type": "stream",
     "text": [
      "Number of faces detected: 1\n"
     ]
    },
    {
     "data": {
      "image/png": "[encoded data removed]",
      "text/plain": [
       "<matplotlib.figure.Figure at 0x7f2d8db56a20>"
      ]
     },
     "metadata": {},
     "output_type": "display_data"
    }
   ],
   "source": [
    "import cv2                \n",
    "import matplotlib.pyplot as plt                        \n",
    "%matplotlib inline                               \n",
    "\n",
    "# extract pre-trained face detector\n",
    "face_cascade = cv2.CascadeClassifier('haarcascades/haarcascade_frontalface_alt.xml')\n",
    "\n",
    "# load color (BGR) image\n",
    "img = cv2.imread(human_files[3])\n",
    "# convert BGR image to grayscale\n",
    "gray = cv2.cvtColor(img, cv2.COLOR_BGR2GRAY)\n",
    "\n",
    "# find faces in image\n",
    "faces = face_cascade.detectMultiScale(gray)\n",
    "\n",
    "# print number of faces detected in the image\n",
    "print('Number of faces detected:', len(faces))\n",
    "\n",
    "# get bounding box for each detected face\n",
    "for (x,y,w,h) in faces:\n",
    "    # add bounding box to color image\n",
    "    cv2.rectangle(img,(x,y),(x+w,y+h),(255,0,0),2)\n",
    "    \n",
    "# convert BGR image to RGB for plotting\n",
    "cv_rgb = cv2.cvtColor(img, cv2.COLOR_BGR2RGB)\n",
    "\n",
    "# display the image, along with bounding box\n",
    "plt.imshow(cv_rgb)\n",
    "plt.show()"
   ]
  },
  {
   "cell_type": "markdown",
   "metadata": {},
   "source": [
    "Before using any of the face detectors, it is standard procedure to convert the images to grayscale.  The `detectMultiScale` function executes the classifier stored in `face_cascade` and takes the grayscale image as a parameter.  \n",
    "\n",
    "In the above code, `faces` is a numpy array of detected faces, where each row corresponds to a detected face.  Each detected face is a 1D array with four entries that specifies the bounding box of the detected face.  The first two entries in the array (extracted in the above code as `x` and `y`) specify the horizontal and vertical positions of the top left corner of the bounding box.  The last two entries in the array (extracted here as `w` and `h`) specify the width and height of the box.\n",
    "\n",
    "### Write a Human Face Detector\n",
    "\n",
    "We can use this procedure to write a function that returns `True` if a human face is detected in an image and `False` otherwise.  This function, aptly named `face_detector`, takes a string-valued file path to an image as input and appears in the code block below."
   ]
  },
  {
   "cell_type": "code",
   "execution_count": 11,
   "metadata": {
    "collapsed": true
   },
   "outputs": [],
   "source": [
    "# returns \"True\" if face is detected in image stored at img_path\n",
    "def face_detector(img_path):\n",
    "    img = cv2.imread(img_path)\n",
    "    gray = cv2.cvtColor(img, cv2.COLOR_BGR2GRAY)\n",
    "    faces = face_cascade.detectMultiScale(gray)\n",
    "    return len(faces) > 0"
   ]
  },
  {
   "cell_type": "markdown",
   "metadata": {},
   "source": [
    "### (IMPLEMENTATION) Assess the Human Face Detector\n",
    "\n",
    "__Question 1:__ Use the code cell below to test the performance of the `face_detector` function.  \n",
    "- What percentage of the first 100 images in `human_files` have a detected human face?  \n",
    "- What percentage of the first 100 images in `dog_files` have a detected human face? \n",
    "\n",
    "Ideally, we would like 100% of human images with a detected face and 0% of dog images with a detected face.  You will see that our algorithm falls short of this goal, but still gives acceptable performance.  We extract the file paths for the first 100 images from each of the datasets and store them in the numpy arrays `human_files_short` and `dog_files_short`.\n",
    "\n",
    "__Answer:__ \n",
    "\n",
    "- 99.00 % of the first 100 images in `human_files` have a detected human face.\n",
    "- 11.00 % of the first 100 images in `dog_files` have a detected human face."
   ]
  },
  {
   "cell_type": "code",
   "execution_count": 12,
   "metadata": {
    "scrolled": true
   },
   "outputs": [
    {
     "name": "stdout",
     "output_type": "stream",
     "text": [
      "True positives: 99.00%\n",
      "False positives: 11.00%\n"
     ]
    }
   ],
   "source": [
    "human_files_short = human_files[:100]\n",
    "dog_files_short = train_files[:100]\n",
    "# Do NOT modify the code above this line.\n",
    "\n",
    "## Test the performance of the face_detector algorithm\n",
    "print(\"True positives: {:4.2f}%\".format(sum([face_detector(f) for f in human_files_short]) / len(human_files_short) * 100))\n",
    "## on the images in human_files_short and dog_files_short.\n",
    "print(\"False positives: {:4.2f}%\".format(sum([face_detector(f) for f in dog_files_short]) / len(dog_files_short) * 100))"
   ]
  },
  {
   "cell_type": "markdown",
   "metadata": {},
   "source": [
    "__Question 2:__ This algorithmic choice necessitates that we communicate to the user that we accept human images only when they provide a clear view of a face (otherwise, we risk having unneccessarily frustrated users!). In your opinion, is this a reasonable expectation to pose on the user? If not, can you think of a way to detect humans in images that does not necessitate an image with a clearly presented face?\n",
    "\n",
    "__Answer:__\n",
    "\n",
    "A way to improve is to use a hog face detector. Here the face detector from dlib was used (see comments in cell how to install).\n",
    "\n",
    "\n",
    "We suggest the face detector from OpenCV as a potential way to detect human images in your algorithm, but you are free to explore other approaches, especially approaches that make use of deep learning :).  Please use the code cell below to design and test your own face detection algorithm.  If you decide to pursue this _optional_ task, report performance on each of the datasets."
   ]
  },
  {
   "cell_type": "code",
   "execution_count": 15,
   "metadata": {},
   "outputs": [
    {
     "name": "stdout",
     "output_type": "stream",
     "text": [
      "True positives: 100.00%\n",
      "False positives: 9.00%\n"
     ]
    }
   ],
   "source": [
    "## (Optional) Report the performance of another  \n",
    "## face detection algorithm on the LFW dataset\n",
    "### Feel free to use as many code cells as needed.\n",
    "# initialize the HOG descriptor\n",
    "# conda config --add channels conda-forge\n",
    "# conda install dlib\n",
    "\n",
    "import dlib\n",
    "dlib_face = dlib.get_frontal_face_detector()\n",
    "def alt_face_detector(img_path):\n",
    "    img = cv2.imread(img_path)\n",
    "    gray = cv2.cvtColor(img, cv2.COLOR_BGR2GRAY)\n",
    "    return sum([1 for face in dlib_face(gray, 1)]) > 0\n",
    "\n",
    "## Test the performance of the face_detector algorithm\n",
    "print(\"True positives: {:4.2f}%\".format(sum([alt_face_detector(f) for f in human_files_short]) / len(human_files_short) * 100))\n",
    "## on the images in human_files_short and dog_files_short.\n",
    "print(\"False positives: {:4.2f}%\".format(sum([alt_face_detector(f) for f in dog_files_short]) / len(dog_files_short) * 100))"
   ]
  },
  {
   "cell_type": "markdown",
   "metadata": {},
   "source": [
    "---\n",
    "<a id='step2'></a>\n",
    "## Step 2: Detect Dogs\n",
    "\n",
    "In this section, we use a pre-trained [ResNet-50](http://ethereon.github.io/netscope/#/gist/db945b393d40bfa26006) model to detect dogs in images.  Our first line of code downloads the ResNet-50 model, along with weights that have been trained on [ImageNet](http://www.image-net.org/), a very large, very popular dataset used for image classification and other vision tasks.  ImageNet contains over 10 million URLs, each linking to an image containing an object from one of [1000 categories](https://gist.github.com/yrevar/942d3a0ac09ec9e5eb3a).  Given an image, this pre-trained ResNet-50 model returns a prediction (derived from the available categories in ImageNet) for the object that is contained in the image."
   ]
  },
  {
   "cell_type": "code",
   "execution_count": 16,
   "metadata": {},
   "outputs": [
    {
     "name": "stdout",
     "output_type": "stream",
     "text": [
      "Downloading data from https://github.com/fchollet/deep-learning-models/releases/download/v0.2/resnet50_weights_tf_dim_ordering_tf_kernels.h5\n"
     ]
    }
   ],
   "source": [
    "from keras.applications.resnet50 import ResNet50\n",
    "\n",
    "# define ResNet50 model\n",
    "ResNet50_model = ResNet50(weights='imagenet')"
   ]
  },
  {
   "cell_type": "markdown",
   "metadata": {},
   "source": [
    "### Pre-process the Data\n",
    "\n",
    "When using TensorFlow as backend, Keras CNNs require a 4D array (which we'll also refer to as a 4D tensor) as input, with shape\n",
    "\n",
    "$$\n",
    "(\\text{nb_samples}, \\text{rows}, \\text{columns}, \\text{channels}),\n",
    "$$\n",
    "\n",
    "where `nb_samples` corresponds to the total number of images (or samples), and `rows`, `columns`, and `channels` correspond to the number of rows, columns, and channels for each image, respectively.  \n",
    "\n",
    "The `path_to_tensor` function below takes a string-valued file path to a color image as input and returns a 4D tensor suitable for supplying to a Keras CNN.  The function first loads the image and resizes it to a square image that is $224 \\times 224$ pixels.  Next, the image is converted to an array, which is then resized to a 4D tensor.  In this case, since we are working with color images, each image has three channels.  Likewise, since we are processing a single image (or sample), the returned tensor will always have shape\n",
    "\n",
    "$$\n",
    "(1, 224, 224, 3).\n",
    "$$\n",
    "\n",
    "The `paths_to_tensor` function takes a numpy array of string-valued image paths as input and returns a 4D tensor with shape \n",
    "\n",
    "$$\n",
    "(\\text{nb_samples}, 224, 224, 3).\n",
    "$$\n",
    "\n",
    "Here, `nb_samples` is the number of samples, or number of images, in the supplied array of image paths.  It is best to think of `nb_samples` as the number of 3D tensors (where each 3D tensor corresponds to a different image) in your dataset!"
   ]
  },
  {
   "cell_type": "code",
   "execution_count": 17,
   "metadata": {
    "collapsed": true
   },
   "outputs": [],
   "source": [
    "from keras.preprocessing import image                  \n",
    "from tqdm import tqdm\n",
    "\n",
    "def path_to_tensor(img_path):\n",
    "    # loads RGB image as PIL.Image.Image type\n",
    "    img = image.load_img(img_path, target_size=(224, 224))\n",
    "    # convert PIL.Image.Image type to 3D tensor with shape (224, 224, 3)\n",
    "    x = image.img_to_array(img)\n",
    "    # convert 3D tensor to 4D tensor with shape (1, 224, 224, 3) and return 4D tensor\n",
    "    return np.expand_dims(x, axis=0)\n",
    "\n",
    "def paths_to_tensor(img_paths):\n",
    "    list_of_tensors = [path_to_tensor(img_path) for img_path in tqdm(img_paths)]\n",
    "    return np.vstack(list_of_tensors)"
   ]
  },
  {
   "cell_type": "markdown",
   "metadata": {},
   "source": [
    "### Making Predictions with ResNet-50\n",
    "\n",
    "Getting the 4D tensor ready for ResNet-50, and for any other pre-trained model in Keras, requires some additional processing.  First, the RGB image is converted to BGR by reordering the channels.  All pre-trained models have the additional normalization step that the mean pixel (expressed in RGB as $[103.939, 116.779, 123.68]$ and calculated from all pixels in all images in ImageNet) must be subtracted from every pixel in each image.  This is implemented in the imported function `preprocess_input`.  If you're curious, you can check the code for `preprocess_input` [here](https://github.com/fchollet/keras/blob/master/keras/applications/imagenet_utils.py).\n",
    "\n",
    "Now that we have a way to format our image for supplying to ResNet-50, we are now ready to use the model to extract the predictions.  This is accomplished with the `predict` method, which returns an array whose $i$-th entry is the model's predicted probability that the image belongs to the $i$-th ImageNet category.  This is implemented in the `ResNet50_predict_labels` function below.\n",
    "\n",
    "By taking the argmax of the predicted probability vector, we obtain an integer corresponding to the model's predicted object class, which we can identify with an object category through the use of this [dictionary](https://gist.github.com/yrevar/942d3a0ac09ec9e5eb3a). "
   ]
  },
  {
   "cell_type": "code",
   "execution_count": 18,
   "metadata": {
    "collapsed": true
   },
   "outputs": [],
   "source": [
    "from keras.applications.resnet50 import preprocess_input, decode_predictions\n",
    "\n",
    "def ResNet50_predict_labels(img_path):\n",
    "    # returns prediction vector for image located at img_path\n",
    "    img = preprocess_input(path_to_tensor(img_path))\n",
    "    return np.argmax(ResNet50_model.predict(img))"
   ]
  },
  {
   "cell_type": "markdown",
   "metadata": {},
   "source": [
    "### Write a Dog Detector\n",
    "\n",
    "While looking at the [dictionary](https://gist.github.com/yrevar/942d3a0ac09ec9e5eb3a), you will notice that the categories corresponding to dogs appear in an uninterrupted sequence and correspond to dictionary keys 151-268, inclusive, to include all categories from `'Chihuahua'` to `'Mexican hairless'`.  Thus, in order to check to see if an image is predicted to contain a dog by the pre-trained ResNet-50 model, we need only check if the `ResNet50_predict_labels` function above returns a value between 151 and 268 (inclusive).\n",
    "\n",
    "We use these ideas to complete the `dog_detector` function below, which returns `True` if a dog is detected in an image (and `False` if not)."
   ]
  },
  {
   "cell_type": "code",
   "execution_count": 19,
   "metadata": {
    "collapsed": true
   },
   "outputs": [],
   "source": [
    "### returns \"True\" if a dog is detected in the image stored at img_path\n",
    "def dog_detector(img_path):\n",
    "    prediction = ResNet50_predict_labels(img_path)\n",
    "    return ((prediction <= 268) & (prediction >= 151)) "
   ]
  },
  {
   "cell_type": "markdown",
   "metadata": {},
   "source": [
    "### (IMPLEMENTATION) Assess the Dog Detector\n",
    "\n",
    "__Question 3:__ Use the code cell below to test the performance of your `dog_detector` function.  \n",
    "- What percentage of the images in `human_files_short` have a detected dog?  \n",
    "- What percentage of the images in `dog_files_short` have a detected dog?\n",
    "\n",
    "__Answer:__ "
   ]
  },
  {
   "cell_type": "code",
   "execution_count": 20,
   "metadata": {},
   "outputs": [
    {
     "name": "stdout",
     "output_type": "stream",
     "text": [
      "False positives: 0.00%\n",
      "True positives: 100.00%\n"
     ]
    }
   ],
   "source": [
    "### Test the performance of the dog_detector function\n",
    "### on the images in human_files_short and dog_files_short.\n",
    "\n",
    "## Test the performance of the face_detector algorithm\n",
    "print(\"False positives: {:4.2f}%\".format(sum([dog_detector(f) for f in human_files_short]) / len(human_files_short) * 100))\n",
    "print(\"True positives: {:4.2f}%\".format(sum([dog_detector(f) for f in dog_files_short]) / len(dog_files_short) * 100))"
   ]
  },
  {
   "cell_type": "markdown",
   "metadata": {},
   "source": [
    "---\n",
    "<a id='step3'></a>\n",
    "## Step 3: Create a CNN to Classify Dog Breeds (from Scratch)\n",
    "\n",
    "Now that we have functions for detecting humans and dogs in images, we need a way to predict breed from images.  In this step, you will create a CNN that classifies dog breeds.  You must create your CNN _from scratch_ (so, you can't use transfer learning _yet_!), and you must attain a test accuracy of at least 1%.  In Step 5 of this notebook, you will have the opportunity to use transfer learning to create a CNN that attains greatly improved accuracy.\n",
    "\n",
    "Be careful with adding too many trainable layers!  More parameters means longer training, which means you are more likely to need a GPU to accelerate the training process.  Thankfully, Keras provides a handy estimate of the time that each epoch is likely to take; you can extrapolate this estimate to figure out how long it will take for your algorithm to train. \n",
    "\n",
    "We mention that the task of assigning breed to dogs from images is considered exceptionally challenging.  To see why, consider that *even a human* would have great difficulty in distinguishing between a Brittany and a Welsh Springer Spaniel.  \n",
    "\n",
    "Brittany | Welsh Springer Spaniel\n",
    "- | - \n",
    "<img src=\"images/Brittany_02625.jpg\" width=\"100\"> | <img src=\"images/Welsh_springer_spaniel_08203.jpg\" width=\"200\">\n",
    "\n",
    "It is not difficult to find other dog breed pairs with minimal inter-class variation (for instance, Curly-Coated Retrievers and American Water Spaniels).  \n",
    "\n",
    "Curly-Coated Retriever | American Water Spaniel\n",
    "- | -\n",
    "<img src=\"images/Curly-coated_retriever_03896.jpg\" width=\"200\"> | <img src=\"images/American_water_spaniel_00648.jpg\" width=\"200\">\n",
    "\n",
    "\n",
    "Likewise, recall that labradors come in yellow, chocolate, and black.  Your vision-based algorithm will have to conquer this high intra-class variation to determine how to classify all of these different shades as the same breed.  \n",
    "\n",
    "Yellow Labrador | Chocolate Labrador | Black Labrador\n",
    "- | -\n",
    "<img src=\"images/Labrador_retriever_06457.jpg\" width=\"150\"> | <img src=\"images/Labrador_retriever_06455.jpg\" width=\"240\"> | <img src=\"images/Labrador_retriever_06449.jpg\" width=\"220\">\n",
    "\n",
    "We also mention that random chance presents an exceptionally low bar: setting aside the fact that the classes are slightly imabalanced, a random guess will provide a correct answer roughly 1 in 133 times, which corresponds to an accuracy of less than 1%.  \n",
    "\n",
    "Remember that the practice is far ahead of the theory in deep learning.  Experiment with many different architectures, and trust your intuition.  And, of course, have fun! \n",
    "\n",
    "### Pre-process the Data\n",
    "\n",
    "We rescale the images by dividing every pixel in every image by 255."
   ]
  },
  {
   "cell_type": "code",
   "execution_count": 21,
   "metadata": {},
   "outputs": [
    {
     "name": "stderr",
     "output_type": "stream",
     "text": [
      "100%|██████████| 6680/6680 [00:53<00:00, 125.20it/s]\n",
      "100%|██████████| 835/835 [00:05<00:00, 139.72it/s]\n",
      "100%|██████████| 836/836 [00:05<00:00, 140.96it/s]\n"
     ]
    }
   ],
   "source": [
    "from PIL import ImageFile                            \n",
    "ImageFile.LOAD_TRUNCATED_IMAGES = True                 \n",
    "\n",
    "# pre-process the data for Keras\n",
    "train_tensors = paths_to_tensor(train_files).astype('float32')/255\n",
    "valid_tensors = paths_to_tensor(valid_files).astype('float32')/255\n",
    "test_tensors = paths_to_tensor(test_files).astype('float32')/255"
   ]
  },
  {
   "cell_type": "markdown",
   "metadata": {},
   "source": [
    "### (IMPLEMENTATION) Model Architecture\n",
    "\n",
    "Create a CNN to classify dog breed.  At the end of your code cell block, summarize the layers of your model by executing the line:\n",
    "    \n",
    "        model.summary()\n",
    "\n",
    "We have imported some Python modules to get you started, but feel free to import as many modules as you need.  If you end up getting stuck, here's a hint that specifies a model that trains relatively fast on CPU and attains >1% test accuracy in 5 epochs:\n",
    "\n",
    "![Sample CNN](images/sample_cnn.png)\n",
    "           \n",
    "__Question 4:__ Outline the steps you took to get to your final CNN architecture and your reasoning at each step.  If you chose to use the hinted architecture above, describe why you think that CNN architecture should work well for the image classification task.\n",
    "\n",
    "__Answer:__ \n",
    "The steps taken were:\n",
    "- first go deep. I introduced layers, so that after pooling I only had a pixel of volume 1x1x1024\n",
    "\n",
    "- Then I added batch normalization to make the training more robust.\n",
    "\n",
    "- Then I added dropout, first I added a dropout after each layer, put this was not successfull, thus I added the dropout only after the 4th layer.\n",
    "\n",
    "- further the training data was augmented\n"
   ]
  },
  {
   "cell_type": "code",
   "execution_count": 50,
   "metadata": {
    "scrolled": true
   },
   "outputs": [
    {
     "name": "stdout",
     "output_type": "stream",
     "text": [
      "_________________________________________________________________\n",
      "Layer (type)                 Output Shape              Param #   \n",
      "=================================================================\n",
      "conv2d_81 (Conv2D)           (None, 224, 224, 8)       104       \n",
      "_________________________________________________________________\n",
      "batch_normalization_75 (Batc (None, 224, 224, 8)       32        \n",
      "_________________________________________________________________\n",
      "max_pooling2d_82 (MaxPooling (None, 112, 112, 8)       0         \n",
      "_________________________________________________________________\n",
      "conv2d_82 (Conv2D)           (None, 112, 112, 16)      528       \n",
      "_________________________________________________________________\n",
      "batch_normalization_76 (Batc (None, 112, 112, 16)      64        \n",
      "_________________________________________________________________\n",
      "max_pooling2d_83 (MaxPooling (None, 56, 56, 16)        0         \n",
      "_________________________________________________________________\n",
      "conv2d_83 (Conv2D)           (None, 56, 56, 32)        2080      \n",
      "_________________________________________________________________\n",
      "batch_normalization_77 (Batc (None, 56, 56, 32)        128       \n",
      "_________________________________________________________________\n",
      "max_pooling2d_84 (MaxPooling (None, 28, 28, 32)        0         \n",
      "_________________________________________________________________\n",
      "conv2d_84 (Conv2D)           (None, 28, 28, 64)        8256      \n",
      "_________________________________________________________________\n",
      "batch_normalization_78 (Batc (None, 28, 28, 64)        256       \n",
      "_________________________________________________________________\n",
      "dropout_27 (Dropout)         (None, 28, 28, 64)        0         \n",
      "_________________________________________________________________\n",
      "max_pooling2d_85 (MaxPooling (None, 14, 14, 64)        0         \n",
      "_________________________________________________________________\n",
      "conv2d_85 (Conv2D)           (None, 14, 14, 128)       32896     \n",
      "_________________________________________________________________\n",
      "batch_normalization_79 (Batc (None, 14, 14, 128)       512       \n",
      "_________________________________________________________________\n",
      "dropout_28 (Dropout)         (None, 14, 14, 128)       0         \n",
      "_________________________________________________________________\n",
      "max_pooling2d_86 (MaxPooling (None, 7, 7, 128)         0         \n",
      "_________________________________________________________________\n",
      "conv2d_86 (Conv2D)           (None, 7, 7, 256)         131328    \n",
      "_________________________________________________________________\n",
      "batch_normalization_80 (Batc (None, 7, 7, 256)         1024      \n",
      "_________________________________________________________________\n",
      "dropout_29 (Dropout)         (None, 7, 7, 256)         0         \n",
      "_________________________________________________________________\n",
      "max_pooling2d_87 (MaxPooling (None, 4, 4, 256)         0         \n",
      "_________________________________________________________________\n",
      "conv2d_87 (Conv2D)           (None, 4, 4, 512)         524800    \n",
      "_________________________________________________________________\n",
      "batch_normalization_81 (Batc (None, 4, 4, 512)         2048      \n",
      "_________________________________________________________________\n",
      "dropout_30 (Dropout)         (None, 4, 4, 512)         0         \n",
      "_________________________________________________________________\n",
      "max_pooling2d_88 (MaxPooling (None, 2, 2, 512)         0         \n",
      "_________________________________________________________________\n",
      "conv2d_88 (Conv2D)           (None, 2, 2, 1024)        2098176   \n",
      "_________________________________________________________________\n",
      "batch_normalization_82 (Batc (None, 2, 2, 1024)        4096      \n",
      "_________________________________________________________________\n",
      "dropout_31 (Dropout)         (None, 2, 2, 1024)        0         \n",
      "_________________________________________________________________\n",
      "max_pooling2d_89 (MaxPooling (None, 1, 1, 1024)        0         \n",
      "_________________________________________________________________\n",
      "flatten_15 (Flatten)         (None, 1024)              0         \n",
      "_________________________________________________________________\n",
      "dropout_32 (Dropout)         (None, 1024)              0         \n",
      "_________________________________________________________________\n",
      "dense_23 (Dense)             (None, 133)               136325    \n",
      "=================================================================\n",
      "Total params: 2,942,653\n",
      "Trainable params: 2,938,573\n",
      "Non-trainable params: 4,080\n",
      "_________________________________________________________________\n"
     ]
    }
   ],
   "source": [
    "from keras.layers import Conv2D, MaxPooling2D, GlobalAveragePooling2D, Dropout\n",
    "from keras.layers import Dropout, Flatten, Dense\n",
    "from keras.layers.normalization import BatchNormalization\n",
    "from keras.models import Sequential\n",
    "\n",
    "model = Sequential()\n",
    "model.add(Conv2D(8, (2, 2), strides=(1, 1), padding='same', activation='relu', input_shape=train_tensors.shape[1:]))\n",
    "model.add(BatchNormalization())\n",
    "model.add(MaxPooling2D(pool_size=(2, 2), padding='same'))\n",
    "model.add(Conv2D(16, (2, 2), strides=(1, 1), padding='same', activation='relu'))\n",
    "model.add(BatchNormalization())\n",
    "model.add(MaxPooling2D(pool_size=(2, 2), padding='same'))\n",
    "model.add(Conv2D(32, (2, 2), strides=(1, 1), padding='same', activation='relu'))\n",
    "model.add(BatchNormalization())\n",
    "model.add(MaxPooling2D(pool_size=(2, 2), padding='same'))\n",
    "model.add(Conv2D(64, (2, 2), strides=(1, 1), padding='same', activation='relu'))\n",
    "model.add(BatchNormalization())\n",
    "model.add(Dropout(0.1))\n",
    "model.add(MaxPooling2D(pool_size=(2, 2), padding='same'))\n",
    "model.add(Conv2D(128, (2, 2), strides=(1, 1), padding='same', activation='relu'))\n",
    "model.add(BatchNormalization())\n",
    "model.add(Dropout(0.1))\n",
    "model.add(MaxPooling2D(pool_size=(2, 2), padding='same'))\n",
    "model.add(Conv2D(256, (2, 2), strides=(1, 1), padding='same', activation='relu'))\n",
    "model.add(BatchNormalization())\n",
    "model.add(Dropout(0.1))\n",
    "model.add(MaxPooling2D(pool_size=(2, 2), padding='same'))\n",
    "model.add(Conv2D(512, (2, 2), strides=(1, 1), padding='same', activation='relu'))\n",
    "model.add(BatchNormalization())\n",
    "model.add(Dropout(0.1))\n",
    "model.add(MaxPooling2D(pool_size=(2, 2), padding='same'))\n",
    "model.add(Conv2D(1024, (2, 2), strides=(1, 1), padding='same', activation='relu'))\n",
    "model.add(BatchNormalization())\n",
    "model.add(Dropout(0.1))\n",
    "model.add(MaxPooling2D(pool_size=(2, 2), padding='same'))\n",
    "model.add(Flatten())\n",
    "model.add(Dropout(0.1))\n",
    "model.add(Dense(133, activation='softmax'))\n",
    "model.summary()"
   ]
  },
  {
   "cell_type": "markdown",
   "metadata": {},
   "source": [
    "### Compile the Model"
   ]
  },
  {
   "cell_type": "code",
   "execution_count": 51,
   "metadata": {
    "collapsed": true
   },
   "outputs": [],
   "source": [
    "model.compile(optimizer='rmsprop', loss='categorical_crossentropy', metrics=['accuracy'])"
   ]
  },
  {
   "cell_type": "markdown",
   "metadata": {},
   "source": [
    "### (IMPLEMENTATION) Train the Model\n",
    "\n",
    "Train your model in the code cell below.  Use model checkpointing to save the model that attains the best validation loss.\n",
    "\n",
    "You are welcome to [augment the training data](https://blog.keras.io/building-powerful-image-classification-models-using-very-little-data.html), but this is not a requirement. "
   ]
  },
  {
   "cell_type": "code",
   "execution_count": 52,
   "metadata": {
    "collapsed": true
   },
   "outputs": [],
   "source": [
    "from keras.preprocessing.image import ImageDataGenerator\n",
    "\n",
    "# create and configure augmented image generator\n",
    "datagen = ImageDataGenerator(\n",
    "    width_shift_range=0.1,\n",
    "    height_shift_range=0.1,\n",
    "    horizontal_flip=True,\n",
    "    vertical_flip=True,\n",
    "    shear_range = 0.1,\n",
    "    rotation_range = 30\n",
    "    ) \n",
    "\n",
    "# fit augmented image generator on data\n",
    "datagen.fit(train_tensors)"
   ]
  },
  {
   "cell_type": "code",
   "execution_count": 53,
   "metadata": {
    "scrolled": true
   },
   "outputs": [
    {
     "name": "stdout",
     "output_type": "stream",
     "text": [
      "Epoch 1/100\n",
      "333/334 [============================>.] - ETA: 0s - loss: 6.2997 - acc: 0.0155Epoch 00000: val_loss improved from inf to 5.31415, saving model to saved_models/weights.best.from_scratch.hdf5\n",
      "334/334 [==============================] - 58s - loss: 6.2975 - acc: 0.0156 - val_loss: 5.3141 - val_acc: 0.0144\n",
      "Epoch 2/100\n",
      "333/334 [============================>.] - ETA: 0s - loss: 5.5152 - acc: 0.0294Epoch 00001: val_loss did not improve\n",
      "334/334 [==============================] - 55s - loss: 5.5151 - acc: 0.0293 - val_loss: 6.2442 - val_acc: 0.0263\n",
      "Epoch 3/100\n",
      "333/334 [============================>.] - ETA: 0s - loss: 5.2999 - acc: 0.0414Epoch 00002: val_loss improved from 5.31415 to 4.46500, saving model to saved_models/weights.best.from_scratch.hdf5\n",
      "334/334 [==============================] - 56s - loss: 5.3015 - acc: 0.0413 - val_loss: 4.4650 - val_acc: 0.0419\n",
      "Epoch 4/100\n",
      "333/334 [============================>.] - ETA: 0s - loss: 5.2358 - acc: 0.0456Epoch 00003: val_loss did not improve\n",
      "334/334 [==============================] - 55s - loss: 5.2341 - acc: 0.0457 - val_loss: 4.4683 - val_acc: 0.0359\n",
      "Epoch 5/100\n",
      "333/334 [============================>.] - ETA: 0s - loss: 5.0544 - acc: 0.0596Epoch 00004: val_loss did not improve\n",
      "334/334 [==============================] - 55s - loss: 5.0546 - acc: 0.0594 - val_loss: 5.1469 - val_acc: 0.0623\n",
      "Epoch 6/100\n",
      "333/334 [============================>.] - ETA: 0s - loss: 4.9105 - acc: 0.0664Epoch 00005: val_loss did not improve\n",
      "334/334 [==============================] - 55s - loss: 4.9084 - acc: 0.0668 - val_loss: 7.0269 - val_acc: 0.0527\n",
      "Epoch 7/100\n",
      "333/334 [============================>.] - ETA: 0s - loss: 4.9114 - acc: 0.0742Epoch 00006: val_loss improved from 4.46500 to 4.43643, saving model to saved_models/weights.best.from_scratch.hdf5\n",
      "334/334 [==============================] - 55s - loss: 4.9102 - acc: 0.0743 - val_loss: 4.4364 - val_acc: 0.0719\n",
      "Epoch 8/100\n",
      "333/334 [============================>.] - ETA: 0s - loss: 4.8572 - acc: 0.0707Epoch 00007: val_loss improved from 4.43643 to 4.41815, saving model to saved_models/weights.best.from_scratch.hdf5\n",
      "334/334 [==============================] - 56s - loss: 4.8583 - acc: 0.0705 - val_loss: 4.4182 - val_acc: 0.0623\n",
      "Epoch 9/100\n",
      "333/334 [============================>.] - ETA: 0s - loss: 4.8319 - acc: 0.0811Epoch 00008: val_loss did not improve\n",
      "334/334 [==============================] - 55s - loss: 4.8311 - acc: 0.0811 - val_loss: 4.6838 - val_acc: 0.0910\n",
      "Epoch 10/100\n",
      "333/334 [============================>.] - ETA: 0s - loss: 4.7726 - acc: 0.0815Epoch 00009: val_loss did not improve\n",
      "334/334 [==============================] - 55s - loss: 4.7714 - acc: 0.0814 - val_loss: 5.8229 - val_acc: 0.0838\n",
      "Epoch 11/100\n",
      "333/334 [============================>.] - ETA: 0s - loss: 4.6725 - acc: 0.0922Epoch 00010: val_loss did not improve\n",
      "334/334 [==============================] - 55s - loss: 4.6726 - acc: 0.0919 - val_loss: 5.0566 - val_acc: 0.0850\n",
      "Epoch 12/100\n",
      "333/334 [============================>.] - ETA: 0s - loss: 4.5992 - acc: 0.1014Epoch 00011: val_loss did not improve\n",
      "334/334 [==============================] - 55s - loss: 4.5981 - acc: 0.1013 - val_loss: 6.1118 - val_acc: 0.0766\n",
      "Epoch 13/100\n",
      "333/334 [============================>.] - ETA: 0s - loss: 4.5886 - acc: 0.1012Epoch 00012: val_loss did not improve\n",
      "334/334 [==============================] - 55s - loss: 4.5907 - acc: 0.1010 - val_loss: 4.8819 - val_acc: 0.0790\n",
      "Epoch 14/100\n",
      "333/334 [============================>.] - ETA: 0s - loss: 4.6149 - acc: 0.1060Epoch 00013: val_loss did not improve\n",
      "334/334 [==============================] - 54s - loss: 4.6156 - acc: 0.1060 - val_loss: 5.4248 - val_acc: 0.0874\n",
      "Epoch 15/100\n",
      "333/334 [============================>.] - ETA: 0s - loss: 4.5450 - acc: 0.1057Epoch 00014: val_loss improved from 4.41815 to 4.18773, saving model to saved_models/weights.best.from_scratch.hdf5\n",
      "334/334 [==============================] - 55s - loss: 4.5467 - acc: 0.1055 - val_loss: 4.1877 - val_acc: 0.0862\n",
      "Epoch 16/100\n",
      "333/334 [============================>.] - ETA: 0s - loss: 4.5356 - acc: 0.1111Epoch 00015: val_loss did not improve\n",
      "334/334 [==============================] - 55s - loss: 4.5373 - acc: 0.1112 - val_loss: 4.7596 - val_acc: 0.0683\n",
      "Epoch 17/100\n",
      "333/334 [============================>.] - ETA: 0s - loss: 4.4728 - acc: 0.1165Epoch 00016: val_loss did not improve\n",
      "334/334 [==============================] - 56s - loss: 4.4729 - acc: 0.1162 - val_loss: 5.2158 - val_acc: 0.0946\n",
      "Epoch 18/100\n",
      "333/334 [============================>.] - ETA: 0s - loss: 4.5109 - acc: 0.1185Epoch 00017: val_loss did not improve\n",
      "334/334 [==============================] - 55s - loss: 4.5108 - acc: 0.1184 - val_loss: 4.1932 - val_acc: 0.0910\n",
      "Epoch 19/100\n",
      "333/334 [============================>.] - ETA: 0s - loss: 4.4836 - acc: 0.1201Epoch 00018: val_loss did not improve\n",
      "334/334 [==============================] - 55s - loss: 4.4836 - acc: 0.1202 - val_loss: 4.4783 - val_acc: 0.0790\n",
      "Epoch 20/100\n",
      "333/334 [============================>.] - ETA: 0s - loss: 4.4062 - acc: 0.1285Epoch 00019: val_loss did not improve\n",
      "334/334 [==============================] - 55s - loss: 4.4080 - acc: 0.1281 - val_loss: 5.2873 - val_acc: 0.0623\n",
      "Epoch 21/100\n",
      "333/334 [============================>.] - ETA: 0s - loss: 4.4791 - acc: 0.1276Epoch 00020: val_loss did not improve\n",
      "334/334 [==============================] - 55s - loss: 4.4769 - acc: 0.1280 - val_loss: 4.6080 - val_acc: 0.0946\n",
      "Epoch 22/100\n",
      "333/334 [============================>.] - ETA: 0s - loss: 4.4100 - acc: 0.1362Epoch 00021: val_loss did not improve\n",
      "334/334 [==============================] - 55s - loss: 4.4098 - acc: 0.1364 - val_loss: 5.7269 - val_acc: 0.0778\n",
      "Epoch 23/100\n",
      "333/334 [============================>.] - ETA: 0s - loss: 4.3434 - acc: 0.1417Epoch 00022: val_loss improved from 4.18773 to 4.00126, saving model to saved_models/weights.best.from_scratch.hdf5\n",
      "334/334 [==============================] - 56s - loss: 4.3456 - acc: 0.1415 - val_loss: 4.0013 - val_acc: 0.1305\n",
      "Epoch 24/100\n",
      "333/334 [============================>.] - ETA: 0s - loss: 4.2774 - acc: 0.1423Epoch 00023: val_loss did not improve\n",
      "334/334 [==============================] - 56s - loss: 4.2769 - acc: 0.1424 - val_loss: 4.0674 - val_acc: 0.1293\n",
      "Epoch 25/100\n",
      "333/334 [============================>.] - ETA: 0s - loss: 4.2505 - acc: 0.1476Epoch 00024: val_loss did not improve\n",
      "334/334 [==============================] - 55s - loss: 4.2516 - acc: 0.1473 - val_loss: 4.8286 - val_acc: 0.1102\n",
      "Epoch 26/100\n",
      "333/334 [============================>.] - ETA: 0s - loss: 4.2322 - acc: 0.1476Epoch 00025: val_loss did not improve\n",
      "334/334 [==============================] - 55s - loss: 4.2313 - acc: 0.1476 - val_loss: 4.2828 - val_acc: 0.0886\n",
      "Epoch 27/100\n",
      "333/334 [============================>.] - ETA: 0s - loss: 4.2043 - acc: 0.1497Epoch 00026: val_loss did not improve\n",
      "334/334 [==============================] - 54s - loss: 4.2054 - acc: 0.1499 - val_loss: 4.3766 - val_acc: 0.1138\n",
      "Epoch 28/100\n",
      "333/334 [============================>.] - ETA: 0s - loss: 4.1545 - acc: 0.1583Epoch 00027: val_loss improved from 4.00126 to 3.97730, saving model to saved_models/weights.best.from_scratch.hdf5\n",
      "334/334 [==============================] - 57s - loss: 4.1540 - acc: 0.1582 - val_loss: 3.9773 - val_acc: 0.1329\n",
      "Epoch 29/100\n",
      "333/334 [============================>.] - ETA: 0s - loss: 4.1578 - acc: 0.1602Epoch 00028: val_loss did not improve\n",
      "334/334 [==============================] - 55s - loss: 4.1586 - acc: 0.1600 - val_loss: 4.4550 - val_acc: 0.1174\n",
      "Epoch 30/100\n",
      "333/334 [============================>.] - ETA: 0s - loss: 4.1497 - acc: 0.1628Epoch 00029: val_loss improved from 3.97730 to 3.87884, saving model to saved_models/weights.best.from_scratch.hdf5\n",
      "334/334 [==============================] - 55s - loss: 4.1525 - acc: 0.1629 - val_loss: 3.8788 - val_acc: 0.1293\n",
      "Epoch 31/100\n",
      "333/334 [============================>.] - ETA: 0s - loss: 4.0604 - acc: 0.1643Epoch 00030: val_loss did not improve\n",
      "334/334 [==============================] - 55s - loss: 4.0619 - acc: 0.1642 - val_loss: 4.3246 - val_acc: 0.1353\n",
      "Epoch 32/100\n",
      "333/334 [============================>.] - ETA: 0s - loss: 4.0364 - acc: 0.1698Epoch 00031: val_loss did not improve\n",
      "334/334 [==============================] - 55s - loss: 4.0362 - acc: 0.1698 - val_loss: 4.5944 - val_acc: 0.0994\n",
      "Epoch 33/100\n",
      "333/334 [============================>.] - ETA: 0s - loss: 3.9783 - acc: 0.1808Epoch 00032: val_loss improved from 3.87884 to 3.61461, saving model to saved_models/weights.best.from_scratch.hdf5\n",
      "334/334 [==============================] - 55s - loss: 3.9784 - acc: 0.1807 - val_loss: 3.6146 - val_acc: 0.1473\n",
      "Epoch 34/100\n",
      "333/334 [============================>.] - ETA: 0s - loss: 3.6518 - acc: 0.1836Epoch 00033: val_loss did not improve\n",
      "334/334 [==============================] - 55s - loss: 3.6524 - acc: 0.1835 - val_loss: 4.5082 - val_acc: 0.1353\n",
      "Epoch 35/100\n",
      "333/334 [============================>.] - ETA: 0s - loss: 3.4139 - acc: 0.1935Epoch 00034: val_loss did not improve\n",
      "334/334 [==============================] - 55s - loss: 3.4137 - acc: 0.1937 - val_loss: 4.4023 - val_acc: 0.1353\n",
      "Epoch 36/100\n",
      "333/334 [============================>.] - ETA: 0s - loss: 3.2883 - acc: 0.2201Epoch 00035: val_loss did not improve\n",
      "334/334 [==============================] - 55s - loss: 3.2870 - acc: 0.2204 - val_loss: 4.6411 - val_acc: 0.1569\n",
      "Epoch 37/100\n",
      "333/334 [============================>.] - ETA: 0s - loss: 3.2101 - acc: 0.2273Epoch 00036: val_loss did not improve\n",
      "334/334 [==============================] - 55s - loss: 3.2096 - acc: 0.2275 - val_loss: 4.4089 - val_acc: 0.1329\n",
      "Epoch 38/100\n",
      "333/334 [============================>.] - ETA: 0s - loss: 3.1429 - acc: 0.2365Epoch 00037: val_loss did not improve\n",
      "334/334 [==============================] - 55s - loss: 3.1435 - acc: 0.2364 - val_loss: 3.9539 - val_acc: 0.1928\n",
      "Epoch 39/100\n",
      "333/334 [============================>.] - ETA: 0s - loss: 3.0512 - acc: 0.2509Epoch 00038: val_loss did not improve\n",
      "334/334 [==============================] - 55s - loss: 3.0523 - acc: 0.2503 - val_loss: 3.8094 - val_acc: 0.1701\n",
      "Epoch 40/100\n",
      "333/334 [============================>.] - ETA: 0s - loss: 2.9735 - acc: 0.2640Epoch 00039: val_loss did not improve\n",
      "334/334 [==============================] - 55s - loss: 2.9731 - acc: 0.2642 - val_loss: 3.8773 - val_acc: 0.1820\n",
      "Epoch 41/100\n",
      "333/334 [============================>.] - ETA: 0s - loss: 2.9104 - acc: 0.2695Epoch 00040: val_loss did not improve\n",
      "334/334 [==============================] - 55s - loss: 2.9110 - acc: 0.2696 - val_loss: 3.6706 - val_acc: 0.2012\n",
      "Epoch 42/100\n",
      "333/334 [============================>.] - ETA: 0s - loss: 2.8621 - acc: 0.2845Epoch 00041: val_loss improved from 3.61461 to 3.42428, saving model to saved_models/weights.best.from_scratch.hdf5\n",
      "334/334 [==============================] - 55s - loss: 2.8610 - acc: 0.2852 - val_loss: 3.4243 - val_acc: 0.2216\n",
      "Epoch 43/100\n",
      "333/334 [============================>.] - ETA: 0s - loss: 2.7847 - acc: 0.3014Epoch 00042: val_loss did not improve\n",
      "334/334 [==============================] - 55s - loss: 2.7842 - acc: 0.3012 - val_loss: 3.4363 - val_acc: 0.2180\n",
      "Epoch 44/100\n",
      "333/334 [============================>.] - ETA: 0s - loss: 2.7974 - acc: 0.2908Epoch 00043: val_loss did not improve\n",
      "334/334 [==============================] - 55s - loss: 2.7964 - acc: 0.2913 - val_loss: 3.4609 - val_acc: 0.1892\n",
      "Epoch 45/100\n",
      "333/334 [============================>.] - ETA: 0s - loss: 2.7382 - acc: 0.3063Epoch 00044: val_loss did not improve\n",
      "334/334 [==============================] - 55s - loss: 2.7405 - acc: 0.3058 - val_loss: 3.4798 - val_acc: 0.2012\n",
      "Epoch 46/100\n",
      "333/334 [============================>.] - ETA: 0s - loss: 2.7075 - acc: 0.3183Epoch 00045: val_loss did not improve\n",
      "334/334 [==============================] - 56s - loss: 2.7090 - acc: 0.3180 - val_loss: 3.4647 - val_acc: 0.2024\n",
      "Epoch 47/100\n",
      "333/334 [============================>.] - ETA: 0s - loss: 2.6888 - acc: 0.3135Epoch 00046: val_loss did not improve\n",
      "334/334 [==============================] - 55s - loss: 2.6896 - acc: 0.3132 - val_loss: 3.5050 - val_acc: 0.1749\n",
      "Epoch 48/100\n",
      "333/334 [============================>.] - ETA: 0s - loss: 2.6774 - acc: 0.3198Epoch 00047: val_loss did not improve\n",
      "334/334 [==============================] - 55s - loss: 2.6768 - acc: 0.3196 - val_loss: 3.6562 - val_acc: 0.1940\n",
      "Epoch 49/100\n",
      "333/334 [============================>.] - ETA: 0s - loss: 2.6383 - acc: 0.3234Epoch 00048: val_loss did not improve\n",
      "334/334 [==============================] - 55s - loss: 2.6397 - acc: 0.3234 - val_loss: 3.5692 - val_acc: 0.2120\n",
      "Epoch 50/100\n",
      "333/334 [============================>.] - ETA: 0s - loss: 2.6424 - acc: 0.3363Epoch 00049: val_loss did not improve\n",
      "334/334 [==============================] - 55s - loss: 2.6429 - acc: 0.3361 - val_loss: 3.4535 - val_acc: 0.2156\n",
      "Epoch 51/100\n",
      "333/334 [============================>.] - ETA: 0s - loss: 2.6018 - acc: 0.3380Epoch 00050: val_loss did not improve\n",
      "334/334 [==============================] - 55s - loss: 2.6028 - acc: 0.3377 - val_loss: 3.4813 - val_acc: 0.2084\n",
      "Epoch 52/100\n",
      "333/334 [============================>.] - ETA: 0s - loss: 2.5732 - acc: 0.3434Epoch 00051: val_loss improved from 3.42428 to 3.34125, saving model to saved_models/weights.best.from_scratch.hdf5\n",
      "334/334 [==============================] - 55s - loss: 2.5721 - acc: 0.3440 - val_loss: 3.3412 - val_acc: 0.2144\n",
      "Epoch 53/100\n",
      "333/334 [============================>.] - ETA: 0s - loss: 2.5407 - acc: 0.3571Epoch 00052: val_loss did not improve\n",
      "334/334 [==============================] - 55s - loss: 2.5410 - acc: 0.3572 - val_loss: 3.6598 - val_acc: 0.2228\n",
      "Epoch 54/100\n",
      "333/334 [============================>.] - ETA: 0s - loss: 2.5264 - acc: 0.3527Epoch 00053: val_loss did not improve\n",
      "334/334 [==============================] - 55s - loss: 2.5270 - acc: 0.3527 - val_loss: 3.3436 - val_acc: 0.2120\n",
      "Epoch 55/100\n",
      "333/334 [============================>.] - ETA: 0s - loss: 2.4881 - acc: 0.3608Epoch 00054: val_loss did not improve\n",
      "334/334 [==============================] - 55s - loss: 2.4885 - acc: 0.3608 - val_loss: 3.4667 - val_acc: 0.2048\n",
      "Epoch 56/100\n",
      "333/334 [============================>.] - ETA: 0s - loss: 2.4951 - acc: 0.3587Epoch 00055: val_loss did not improve\n",
      "334/334 [==============================] - 55s - loss: 2.4958 - acc: 0.3591 - val_loss: 3.3831 - val_acc: 0.2168\n",
      "Epoch 57/100\n",
      "333/334 [============================>.] - ETA: 0s - loss: 2.4853 - acc: 0.3638Epoch 00056: val_loss did not improve\n",
      "334/334 [==============================] - 55s - loss: 2.4860 - acc: 0.3635 - val_loss: 3.3779 - val_acc: 0.2371\n",
      "Epoch 58/100\n",
      "333/334 [============================>.] - ETA: 0s - loss: 2.4511 - acc: 0.3709Epoch 00057: val_loss improved from 3.34125 to 3.08949, saving model to saved_models/weights.best.from_scratch.hdf5\n",
      "334/334 [==============================] - 55s - loss: 2.4503 - acc: 0.3713 - val_loss: 3.0895 - val_acc: 0.2599\n",
      "Epoch 59/100\n",
      "333/334 [============================>.] - ETA: 0s - loss: 2.4533 - acc: 0.3823Epoch 00058: val_loss did not improve\n",
      "334/334 [==============================] - 55s - loss: 2.4509 - acc: 0.3829 - val_loss: 3.3689 - val_acc: 0.2455\n",
      "Epoch 60/100\n",
      "333/334 [============================>.] - ETA: 0s - loss: 2.3993 - acc: 0.3893Epoch 00059: val_loss did not improve\n",
      "334/334 [==============================] - 55s - loss: 2.3974 - acc: 0.3895 - val_loss: 3.6197 - val_acc: 0.1832\n",
      "Epoch 61/100\n",
      "333/334 [============================>.] - ETA: 0s - loss: 2.3610 - acc: 0.3956Epoch 00060: val_loss did not improve\n",
      "334/334 [==============================] - 55s - loss: 2.3630 - acc: 0.3951 - val_loss: 3.3639 - val_acc: 0.2359\n",
      "Epoch 62/100\n",
      "333/334 [============================>.] - ETA: 0s - loss: 2.3576 - acc: 0.3853Epoch 00061: val_loss did not improve\n",
      "334/334 [==============================] - 55s - loss: 2.3601 - acc: 0.3849 - val_loss: 3.3626 - val_acc: 0.2108\n",
      "Epoch 63/100\n",
      "333/334 [============================>.] - ETA: 0s - loss: 2.3387 - acc: 0.3956Epoch 00062: val_loss did not improve\n",
      "334/334 [==============================] - 55s - loss: 2.3409 - acc: 0.3952 - val_loss: 3.3754 - val_acc: 0.2335\n",
      "Epoch 64/100\n",
      "333/334 [============================>.] - ETA: 0s - loss: 2.3406 - acc: 0.3950Epoch 00063: val_loss did not improve\n"
     ]
    },
    {
     "name": "stdout",
     "output_type": "stream",
     "text": [
      "334/334 [==============================] - 55s - loss: 2.3410 - acc: 0.3951 - val_loss: 3.3688 - val_acc: 0.2144\n",
      "Epoch 65/100\n",
      "333/334 [============================>.] - ETA: 0s - loss: 2.3178 - acc: 0.4005Epoch 00064: val_loss did not improve\n",
      "334/334 [==============================] - 55s - loss: 2.3172 - acc: 0.4009 - val_loss: 3.4561 - val_acc: 0.2263\n",
      "Epoch 66/100\n",
      "333/334 [============================>.] - ETA: 0s - loss: 2.2711 - acc: 0.4087Epoch 00065: val_loss did not improve\n",
      "334/334 [==============================] - 55s - loss: 2.2733 - acc: 0.4079 - val_loss: 3.3840 - val_acc: 0.2647\n",
      "Epoch 67/100\n",
      "333/334 [============================>.] - ETA: 0s - loss: 2.2682 - acc: 0.4135Epoch 00066: val_loss did not improve\n",
      "334/334 [==============================] - 55s - loss: 2.2688 - acc: 0.4138 - val_loss: 3.1691 - val_acc: 0.2623\n",
      "Epoch 68/100\n",
      "333/334 [============================>.] - ETA: 0s - loss: 2.2678 - acc: 0.4155Epoch 00067: val_loss did not improve\n",
      "334/334 [==============================] - 55s - loss: 2.2687 - acc: 0.4154 - val_loss: 3.4451 - val_acc: 0.2192\n",
      "Epoch 69/100\n",
      "333/334 [============================>.] - ETA: 0s - loss: 2.2197 - acc: 0.4240Epoch 00068: val_loss did not improve\n",
      "334/334 [==============================] - 55s - loss: 2.2204 - acc: 0.4237 - val_loss: 3.2736 - val_acc: 0.2587\n",
      "Epoch 70/100\n",
      "333/334 [============================>.] - ETA: 0s - loss: 2.2398 - acc: 0.4198Epoch 00069: val_loss did not improve\n",
      "334/334 [==============================] - 55s - loss: 2.2398 - acc: 0.4198 - val_loss: 3.4150 - val_acc: 0.2311\n",
      "Epoch 71/100\n",
      "333/334 [============================>.] - ETA: 0s - loss: 2.1944 - acc: 0.4266Epoch 00070: val_loss did not improve\n",
      "334/334 [==============================] - 55s - loss: 2.1950 - acc: 0.4266 - val_loss: 3.2541 - val_acc: 0.2515\n",
      "Epoch 72/100\n",
      "333/334 [============================>.] - ETA: 0s - loss: 2.1671 - acc: 0.4371Epoch 00071: val_loss did not improve\n",
      "334/334 [==============================] - 56s - loss: 2.1684 - acc: 0.4371 - val_loss: 3.4504 - val_acc: 0.2515\n",
      "Epoch 73/100\n",
      "333/334 [============================>.] - ETA: 0s - loss: 2.1475 - acc: 0.4380Epoch 00072: val_loss did not improve\n",
      "334/334 [==============================] - 55s - loss: 2.1480 - acc: 0.4382 - val_loss: 3.4399 - val_acc: 0.2419\n",
      "Epoch 74/100\n",
      "333/334 [============================>.] - ETA: 0s - loss: 2.1302 - acc: 0.4465Epoch 00073: val_loss did not improve\n",
      "334/334 [==============================] - 55s - loss: 2.1343 - acc: 0.4458 - val_loss: 3.3341 - val_acc: 0.2383\n",
      "Epoch 75/100\n",
      "333/334 [============================>.] - ETA: 0s - loss: 2.1295 - acc: 0.4491Epoch 00074: val_loss did not improve\n",
      "334/334 [==============================] - 54s - loss: 2.1297 - acc: 0.4488 - val_loss: 3.8256 - val_acc: 0.2335\n",
      "Epoch 76/100\n",
      "333/334 [============================>.] - ETA: 0s - loss: 2.1005 - acc: 0.4562Epoch 00075: val_loss did not improve\n",
      "334/334 [==============================] - 55s - loss: 2.1032 - acc: 0.4555 - val_loss: 3.4547 - val_acc: 0.2216\n",
      "Epoch 77/100\n",
      "333/334 [============================>.] - ETA: 0s - loss: 2.0940 - acc: 0.4530Epoch 00076: val_loss did not improve\n",
      "334/334 [==============================] - 55s - loss: 2.0936 - acc: 0.4533 - val_loss: 3.3092 - val_acc: 0.2587\n",
      "Epoch 78/100\n",
      "333/334 [============================>.] - ETA: 0s - loss: 2.0601 - acc: 0.4599Epoch 00077: val_loss did not improve\n",
      "334/334 [==============================] - 55s - loss: 2.0582 - acc: 0.4606 - val_loss: 3.3221 - val_acc: 0.2539\n",
      "Epoch 79/100\n",
      "333/334 [============================>.] - ETA: 0s - loss: 2.0364 - acc: 0.4659Epoch 00078: val_loss did not improve\n",
      "334/334 [==============================] - 55s - loss: 2.0382 - acc: 0.4656 - val_loss: 3.5888 - val_acc: 0.2204\n",
      "Epoch 80/100\n",
      "333/334 [============================>.] - ETA: 0s - loss: 2.0115 - acc: 0.4739Epoch 00079: val_loss did not improve\n",
      "334/334 [==============================] - 55s - loss: 2.0125 - acc: 0.4737 - val_loss: 3.3458 - val_acc: 0.2527\n",
      "Epoch 81/100\n",
      "333/334 [============================>.] - ETA: 0s - loss: 1.9786 - acc: 0.4809Epoch 00080: val_loss did not improve\n",
      "334/334 [==============================] - 55s - loss: 1.9804 - acc: 0.4804 - val_loss: 3.5379 - val_acc: 0.2383\n",
      "Epoch 82/100\n",
      "333/334 [============================>.] - ETA: 0s - loss: 2.0053 - acc: 0.4737Epoch 00081: val_loss did not improve\n",
      "334/334 [==============================] - 55s - loss: 2.0070 - acc: 0.4737 - val_loss: 3.4511 - val_acc: 0.2395\n",
      "Epoch 83/100\n",
      "333/334 [============================>.] - ETA: 0s - loss: 1.9621 - acc: 0.4746Epoch 00082: val_loss did not improve\n",
      "334/334 [==============================] - 55s - loss: 1.9622 - acc: 0.4747 - val_loss: 3.4889 - val_acc: 0.2527\n",
      "Epoch 84/100\n",
      "333/334 [============================>.] - ETA: 0s - loss: 1.9712 - acc: 0.4811Epoch 00083: val_loss did not improve\n",
      "334/334 [==============================] - 55s - loss: 1.9704 - acc: 0.4813 - val_loss: 3.3933 - val_acc: 0.2527\n",
      "Epoch 85/100\n",
      "333/334 [============================>.] - ETA: 0s - loss: 1.9461 - acc: 0.4881Epoch 00084: val_loss did not improve\n",
      "334/334 [==============================] - 55s - loss: 1.9471 - acc: 0.4880 - val_loss: 3.3430 - val_acc: 0.2659\n",
      "Epoch 86/100\n",
      "333/334 [============================>.] - ETA: 0s - loss: 1.9114 - acc: 0.5002Epoch 00085: val_loss did not improve\n",
      "334/334 [==============================] - 55s - loss: 1.9110 - acc: 0.4999 - val_loss: 3.3160 - val_acc: 0.2814\n",
      "Epoch 87/100\n",
      "333/334 [============================>.] - ETA: 0s - loss: 1.8884 - acc: 0.5102Epoch 00086: val_loss did not improve\n",
      "334/334 [==============================] - 55s - loss: 1.8901 - acc: 0.5096 - val_loss: 3.5591 - val_acc: 0.2395\n",
      "Epoch 88/100\n",
      "333/334 [============================>.] - ETA: 0s - loss: 1.8664 - acc: 0.5030Epoch 00087: val_loss did not improve\n",
      "334/334 [==============================] - 55s - loss: 1.8676 - acc: 0.5025 - val_loss: 3.7508 - val_acc: 0.2036\n",
      "Epoch 89/100\n",
      "333/334 [============================>.] - ETA: 0s - loss: 1.8894 - acc: 0.5023Epoch 00088: val_loss did not improve\n",
      "334/334 [==============================] - 55s - loss: 1.8903 - acc: 0.5018 - val_loss: 3.4741 - val_acc: 0.2467\n",
      "Epoch 90/100\n",
      "333/334 [============================>.] - ETA: 0s - loss: 1.8648 - acc: 0.5080Epoch 00089: val_loss did not improve\n",
      "334/334 [==============================] - 55s - loss: 1.8660 - acc: 0.5075 - val_loss: 3.3888 - val_acc: 0.2623\n",
      "Epoch 91/100\n",
      "333/334 [============================>.] - ETA: 0s - loss: 1.8480 - acc: 0.5081Epoch 00090: val_loss did not improve\n",
      "334/334 [==============================] - 55s - loss: 1.8478 - acc: 0.5081 - val_loss: 3.5108 - val_acc: 0.2455\n",
      "Epoch 92/100\n",
      "333/334 [============================>.] - ETA: 0s - loss: 1.8306 - acc: 0.5131Epoch 00091: val_loss did not improve\n",
      "334/334 [==============================] - 55s - loss: 1.8309 - acc: 0.5132 - val_loss: 3.4922 - val_acc: 0.2778\n",
      "Epoch 93/100\n",
      "333/334 [============================>.] - ETA: 0s - loss: 1.8272 - acc: 0.5102Epoch 00092: val_loss did not improve\n",
      "334/334 [==============================] - 55s - loss: 1.8276 - acc: 0.5103 - val_loss: 3.3556 - val_acc: 0.2754\n",
      "Epoch 94/100\n",
      "333/334 [============================>.] - ETA: 0s - loss: 1.7738 - acc: 0.5243Epoch 00093: val_loss did not improve\n",
      "334/334 [==============================] - 56s - loss: 1.7731 - acc: 0.5244 - val_loss: 3.5549 - val_acc: 0.2563\n",
      "Epoch 95/100\n",
      "333/334 [============================>.] - ETA: 0s - loss: 1.7594 - acc: 0.5336Epoch 00094: val_loss did not improve\n",
      "334/334 [==============================] - 55s - loss: 1.7594 - acc: 0.5335 - val_loss: 3.3823 - val_acc: 0.2850\n",
      "Epoch 96/100\n",
      "333/334 [============================>.] - ETA: 0s - loss: 1.7615 - acc: 0.5282Epoch 00095: val_loss did not improve\n",
      "334/334 [==============================] - 56s - loss: 1.7613 - acc: 0.5283 - val_loss: 3.4574 - val_acc: 0.2587\n",
      "Epoch 97/100\n",
      "333/334 [============================>.] - ETA: 0s - loss: 1.7220 - acc: 0.5372Epoch 00096: val_loss did not improve\n",
      "334/334 [==============================] - 55s - loss: 1.7214 - acc: 0.5373 - val_loss: 3.4489 - val_acc: 0.2623\n",
      "Epoch 98/100\n",
      "333/334 [============================>.] - ETA: 0s - loss: 1.7523 - acc: 0.5249Epoch 00097: val_loss did not improve\n",
      "334/334 [==============================] - 55s - loss: 1.7545 - acc: 0.5244 - val_loss: 3.4102 - val_acc: 0.2707\n",
      "Epoch 99/100\n",
      "333/334 [============================>.] - ETA: 0s - loss: 1.6807 - acc: 0.5488Epoch 00098: val_loss did not improve\n",
      "334/334 [==============================] - 55s - loss: 1.6797 - acc: 0.5488 - val_loss: 3.4642 - val_acc: 0.2766\n",
      "Epoch 100/100\n",
      "333/334 [============================>.] - ETA: 0s - loss: 1.6564 - acc: 0.5566Epoch 00099: val_loss did not improve\n",
      "334/334 [==============================] - 55s - loss: 1.6557 - acc: 0.5570 - val_loss: 3.4122 - val_acc: 0.2587\n"
     ]
    },
    {
     "data": {
      "text/plain": [
       "<keras.callbacks.History at 0x7f2bf3228a90>"
      ]
     },
     "execution_count": 53,
     "metadata": {},
     "output_type": "execute_result"
    }
   ],
   "source": [
    "from keras.callbacks import ModelCheckpoint  \n",
    "\n",
    "### specify the number of epochs that you would like to use to train the model.\n",
    "\n",
    "epochs = 100\n",
    "batch_size = 20\n",
    "\n",
    "### Do NOT modify the code below this line.\n",
    "\n",
    "checkpointer = ModelCheckpoint(filepath='saved_models/weights.best.from_scratch.hdf5', \n",
    "                               verbose=1, save_best_only=True)\n",
    "\n",
    "model.fit_generator(datagen.flow(train_tensors, train_targets, batch_size=batch_size),\n",
    "          validation_data=(valid_tensors, valid_targets),\n",
    "          steps_per_epoch=train_tensors.shape[0] // batch_size,\n",
    "          epochs=epochs, callbacks=[checkpointer], verbose=1)"
   ]
  },
  {
   "cell_type": "markdown",
   "metadata": {},
   "source": [
    "### Load the Model with the Best Validation Loss"
   ]
  },
  {
   "cell_type": "code",
   "execution_count": 54,
   "metadata": {
    "collapsed": true
   },
   "outputs": [],
   "source": [
    "model.load_weights('saved_models/weights.best.from_scratch.hdf5')"
   ]
  },
  {
   "cell_type": "markdown",
   "metadata": {},
   "source": [
    "### Test the Model\n",
    "\n",
    "Try out your model on the test dataset of dog images.  Ensure that your test accuracy is greater than 1%."
   ]
  },
  {
   "cell_type": "code",
   "execution_count": 55,
   "metadata": {},
   "outputs": [
    {
     "name": "stdout",
     "output_type": "stream",
     "text": [
      "Test accuracy: 27.6316%\n"
     ]
    }
   ],
   "source": [
    "# get index of predicted dog breed for each image in test set\n",
    "dog_breed_predictions = [np.argmax(model.predict(np.expand_dims(tensor, axis=0))) for tensor in test_tensors]\n",
    "\n",
    "# report test accuracy\n",
    "test_accuracy = 100*np.sum(np.array(dog_breed_predictions)==np.argmax(test_targets, axis=1))/len(dog_breed_predictions)\n",
    "print('Test accuracy: %.4f%%' % test_accuracy)"
   ]
  },
  {
   "cell_type": "markdown",
   "metadata": {},
   "source": [
    "---\n",
    "<a id='step4'></a>\n",
    "## Step 4: Use a CNN to Classify Dog Breeds\n",
    "\n",
    "To reduce training time without sacrificing accuracy, we show you how to train a CNN using transfer learning.  In the following step, you will get a chance to use transfer learning to train your own CNN.\n",
    "\n",
    "### Obtain Bottleneck Features"
   ]
  },
  {
   "cell_type": "code",
   "execution_count": 56,
   "metadata": {
    "collapsed": true
   },
   "outputs": [],
   "source": [
    "bottleneck_features = np.load('bottleneck_features/DogVGG16Data.npz')\n",
    "train_VGG16 = bottleneck_features['train']\n",
    "valid_VGG16 = bottleneck_features['valid']\n",
    "test_VGG16 = bottleneck_features['test']"
   ]
  },
  {
   "cell_type": "markdown",
   "metadata": {},
   "source": [
    "### Model Architecture\n",
    "\n",
    "The model uses the the pre-trained VGG-16 model as a fixed feature extractor, where the last convolutional output of VGG-16 is fed as input to our model.  We only add a global average pooling layer and a fully connected layer, where the latter contains one node for each dog category and is equipped with a softmax."
   ]
  },
  {
   "cell_type": "code",
   "execution_count": 57,
   "metadata": {},
   "outputs": [
    {
     "name": "stdout",
     "output_type": "stream",
     "text": [
      "_________________________________________________________________\n",
      "Layer (type)                 Output Shape              Param #   \n",
      "=================================================================\n",
      "global_average_pooling2d_1 ( (None, 512)               0         \n",
      "_________________________________________________________________\n",
      "dense_24 (Dense)             (None, 133)               68229     \n",
      "=================================================================\n",
      "Total params: 68,229\n",
      "Trainable params: 68,229\n",
      "Non-trainable params: 0\n",
      "_________________________________________________________________\n"
     ]
    }
   ],
   "source": [
    "VGG16_model = Sequential()\n",
    "VGG16_model.add(GlobalAveragePooling2D(input_shape=train_VGG16.shape[1:]))\n",
    "VGG16_model.add(Dense(133, activation='softmax'))\n",
    "\n",
    "VGG16_model.summary()"
   ]
  },
  {
   "cell_type": "markdown",
   "metadata": {},
   "source": [
    "### Compile the Model"
   ]
  },
  {
   "cell_type": "code",
   "execution_count": 58,
   "metadata": {
    "collapsed": true
   },
   "outputs": [],
   "source": [
    "VGG16_model.compile(loss='categorical_crossentropy', optimizer='rmsprop', metrics=['accuracy'])"
   ]
  },
  {
   "cell_type": "markdown",
   "metadata": {},
   "source": [
    "### Train the Model"
   ]
  },
  {
   "cell_type": "code",
   "execution_count": 59,
   "metadata": {},
   "outputs": [
    {
     "name": "stdout",
     "output_type": "stream",
     "text": [
      "Train on 6680 samples, validate on 835 samples\n",
      "Epoch 1/20\n",
      "6500/6680 [============================>.] - ETA: 0s - loss: 11.3022 - acc: 0.1508Epoch 00000: val_loss improved from inf to 9.38334, saving model to saved_models/weights.best.VGG16.hdf5\n",
      "6680/6680 [==============================] - 2s - loss: 11.2532 - acc: 0.1543 - val_loss: 9.3833 - val_acc: 0.2814\n",
      "Epoch 2/20\n",
      "6480/6680 [============================>.] - ETA: 0s - loss: 8.7434 - acc: 0.3494Epoch 00001: val_loss improved from 9.38334 to 8.87867, saving model to saved_models/weights.best.VGG16.hdf5\n",
      "6680/6680 [==============================] - 1s - loss: 8.7808 - acc: 0.3482 - val_loss: 8.8787 - val_acc: 0.3569\n",
      "Epoch 3/20\n",
      "6480/6680 [============================>.] - ETA: 0s - loss: 8.2822 - acc: 0.4154Epoch 00002: val_loss improved from 8.87867 to 8.69770, saving model to saved_models/weights.best.VGG16.hdf5\n",
      "6680/6680 [==============================] - 1s - loss: 8.2933 - acc: 0.4148 - val_loss: 8.6977 - val_acc: 0.3677\n",
      "Epoch 4/20\n",
      "6500/6680 [============================>.] - ETA: 0s - loss: 8.1028 - acc: 0.4463Epoch 00003: val_loss improved from 8.69770 to 8.62128, saving model to saved_models/weights.best.VGG16.hdf5\n",
      "6680/6680 [==============================] - 1s - loss: 8.0954 - acc: 0.4467 - val_loss: 8.6213 - val_acc: 0.3820\n",
      "Epoch 5/20\n",
      "6500/6680 [============================>.] - ETA: 0s - loss: 7.8781 - acc: 0.4723Epoch 00004: val_loss improved from 8.62128 to 8.44973, saving model to saved_models/weights.best.VGG16.hdf5\n",
      "6680/6680 [==============================] - 1s - loss: 7.8611 - acc: 0.4732 - val_loss: 8.4497 - val_acc: 0.4048\n",
      "Epoch 6/20\n",
      "6460/6680 [============================>.] - ETA: 0s - loss: 7.6197 - acc: 0.4923Epoch 00005: val_loss improved from 8.44973 to 8.22270, saving model to saved_models/weights.best.VGG16.hdf5\n",
      "6680/6680 [==============================] - 1s - loss: 7.6304 - acc: 0.4909 - val_loss: 8.2227 - val_acc: 0.4132\n",
      "Epoch 7/20\n",
      "6660/6680 [============================>.] - ETA: 0s - loss: 7.4936 - acc: 0.5120Epoch 00006: val_loss improved from 8.22270 to 8.16560, saving model to saved_models/weights.best.VGG16.hdf5\n",
      "6680/6680 [==============================] - 1s - loss: 7.4978 - acc: 0.5118 - val_loss: 8.1656 - val_acc: 0.4180\n",
      "Epoch 8/20\n",
      "6500/6680 [============================>.] - ETA: 0s - loss: 7.4885 - acc: 0.5158Epoch 00007: val_loss improved from 8.16560 to 8.06852, saving model to saved_models/weights.best.VGG16.hdf5\n",
      "6680/6680 [==============================] - 1s - loss: 7.4610 - acc: 0.5175 - val_loss: 8.0685 - val_acc: 0.4263\n",
      "Epoch 9/20\n",
      "6500/6680 [============================>.] - ETA: 0s - loss: 7.4016 - acc: 0.5223Epoch 00008: val_loss did not improve\n",
      "6680/6680 [==============================] - 1s - loss: 7.3850 - acc: 0.5234 - val_loss: 8.0973 - val_acc: 0.4204\n",
      "Epoch 10/20\n",
      "6500/6680 [============================>.] - ETA: 0s - loss: 7.3129 - acc: 0.5345Epoch 00009: val_loss improved from 8.06852 to 8.02858, saving model to saved_models/weights.best.VGG16.hdf5\n",
      "6680/6680 [==============================] - 1s - loss: 7.3290 - acc: 0.5334 - val_loss: 8.0286 - val_acc: 0.4311\n",
      "Epoch 11/20\n",
      "6480/6680 [============================>.] - ETA: 0s - loss: 7.2003 - acc: 0.5390Epoch 00010: val_loss improved from 8.02858 to 7.91913, saving model to saved_models/weights.best.VGG16.hdf5\n",
      "6680/6680 [==============================] - 1s - loss: 7.2299 - acc: 0.5373 - val_loss: 7.9191 - val_acc: 0.4419\n",
      "Epoch 12/20\n",
      "6500/6680 [============================>.] - ETA: 0s - loss: 7.0805 - acc: 0.5483Epoch 00011: val_loss improved from 7.91913 to 7.80902, saving model to saved_models/weights.best.VGG16.hdf5\n",
      "6680/6680 [==============================] - 1s - loss: 7.0765 - acc: 0.5487 - val_loss: 7.8090 - val_acc: 0.4575\n",
      "Epoch 13/20\n",
      "6480/6680 [============================>.] - ETA: 0s - loss: 7.0016 - acc: 0.5540Epoch 00012: val_loss did not improve\n",
      "6680/6680 [==============================] - 1s - loss: 7.0082 - acc: 0.5537 - val_loss: 7.8189 - val_acc: 0.4323\n",
      "Epoch 14/20\n",
      "6640/6680 [============================>.] - ETA: 0s - loss: 6.8120 - acc: 0.5604Epoch 00013: val_loss improved from 7.80902 to 7.55369, saving model to saved_models/weights.best.VGG16.hdf5\n",
      "6680/6680 [==============================] - 1s - loss: 6.8107 - acc: 0.5603 - val_loss: 7.5537 - val_acc: 0.4635\n",
      "Epoch 15/20\n",
      "6500/6680 [============================>.] - ETA: 0s - loss: 6.6706 - acc: 0.5711Epoch 00014: val_loss improved from 7.55369 to 7.48382, saving model to saved_models/weights.best.VGG16.hdf5\n",
      "6680/6680 [==============================] - 1s - loss: 6.6842 - acc: 0.5704 - val_loss: 7.4838 - val_acc: 0.4695\n",
      "Epoch 16/20\n",
      "6500/6680 [============================>.] - ETA: 0s - loss: 6.6080 - acc: 0.5806Epoch 00015: val_loss improved from 7.48382 to 7.45664, saving model to saved_models/weights.best.VGG16.hdf5\n",
      "6680/6680 [==============================] - 1s - loss: 6.6234 - acc: 0.5795 - val_loss: 7.4566 - val_acc: 0.4587\n",
      "Epoch 17/20\n",
      "6500/6680 [============================>.] - ETA: 0s - loss: 6.5419 - acc: 0.5815Epoch 00016: val_loss improved from 7.45664 to 7.41788, saving model to saved_models/weights.best.VGG16.hdf5\n",
      "6680/6680 [==============================] - 1s - loss: 6.5365 - acc: 0.5817 - val_loss: 7.4179 - val_acc: 0.4659\n",
      "Epoch 18/20\n",
      "6500/6680 [============================>.] - ETA: 0s - loss: 6.4324 - acc: 0.5882Epoch 00017: val_loss improved from 7.41788 to 7.27304, saving model to saved_models/weights.best.VGG16.hdf5\n",
      "6680/6680 [==============================] - 1s - loss: 6.4233 - acc: 0.5885 - val_loss: 7.2730 - val_acc: 0.4719\n",
      "Epoch 19/20\n",
      "6480/6680 [============================>.] - ETA: 0s - loss: 6.3519 - acc: 0.5955Epoch 00018: val_loss did not improve\n",
      "6680/6680 [==============================] - 1s - loss: 6.3496 - acc: 0.5949 - val_loss: 7.2734 - val_acc: 0.4743\n",
      "Epoch 20/20\n",
      "6500/6680 [============================>.] - ETA: 0s - loss: 6.3082 - acc: 0.5977Epoch 00019: val_loss improved from 7.27304 to 7.19088, saving model to saved_models/weights.best.VGG16.hdf5\n",
      "6680/6680 [==============================] - 1s - loss: 6.2812 - acc: 0.5994 - val_loss: 7.1909 - val_acc: 0.4778\n"
     ]
    },
    {
     "data": {
      "text/plain": [
       "<keras.callbacks.History at 0x7f2bf1767e80>"
      ]
     },
     "execution_count": 59,
     "metadata": {},
     "output_type": "execute_result"
    }
   ],
   "source": [
    "checkpointer = ModelCheckpoint(filepath='saved_models/weights.best.VGG16.hdf5', \n",
    "                               verbose=1, save_best_only=True)\n",
    "\n",
    "VGG16_model.fit(train_VGG16, train_targets, \n",
    "          validation_data=(valid_VGG16, valid_targets),\n",
    "          epochs=20, batch_size=20, callbacks=[checkpointer], verbose=1)"
   ]
  },
  {
   "cell_type": "markdown",
   "metadata": {},
   "source": [
    "### Load the Model with the Best Validation Loss"
   ]
  },
  {
   "cell_type": "code",
   "execution_count": 60,
   "metadata": {
    "collapsed": true
   },
   "outputs": [],
   "source": [
    "VGG16_model.load_weights('saved_models/weights.best.VGG16.hdf5')"
   ]
  },
  {
   "cell_type": "markdown",
   "metadata": {},
   "source": [
    "### Test the Model\n",
    "\n",
    "Now, we can use the CNN to test how well it identifies breed within our test dataset of dog images.  We print the test accuracy below."
   ]
  },
  {
   "cell_type": "code",
   "execution_count": 61,
   "metadata": {},
   "outputs": [
    {
     "name": "stdout",
     "output_type": "stream",
     "text": [
      "Test accuracy: 50.7177%\n"
     ]
    }
   ],
   "source": [
    "# get index of predicted dog breed for each image in test set\n",
    "VGG16_predictions = [np.argmax(VGG16_model.predict(np.expand_dims(feature, axis=0))) for feature in test_VGG16]\n",
    "\n",
    "# report test accuracy\n",
    "test_accuracy = 100*np.sum(np.array(VGG16_predictions)==np.argmax(test_targets, axis=1))/len(VGG16_predictions)\n",
    "print('Test accuracy: %.4f%%' % test_accuracy)"
   ]
  },
  {
   "cell_type": "markdown",
   "metadata": {},
   "source": [
    "### Predict Dog Breed with the Model"
   ]
  },
  {
   "cell_type": "code",
   "execution_count": 62,
   "metadata": {
    "collapsed": true
   },
   "outputs": [],
   "source": [
    "from extract_bottleneck_features import *\n",
    "\n",
    "def VGG16_predict_breed(img_path):\n",
    "    # extract bottleneck features\n",
    "    bottleneck_feature = extract_VGG16(path_to_tensor(img_path))\n",
    "    # obtain predicted vector\n",
    "    predicted_vector = VGG16_model.predict(bottleneck_feature)\n",
    "    # return dog breed that is predicted by the model\n",
    "    return dog_names[np.argmax(predicted_vector)]"
   ]
  },
  {
   "cell_type": "markdown",
   "metadata": {},
   "source": [
    "---\n",
    "<a id='step5'></a>\n",
    "## Step 5: Create a CNN to Classify Dog Breeds (using Transfer Learning)\n",
    "\n",
    "You will now use transfer learning to create a CNN that can identify dog breed from images.  Your CNN must attain at least 60% accuracy on the test set.\n",
    "\n",
    "In Step 4, we used transfer learning to create a CNN using VGG-16 bottleneck features.  In this section, you must use the bottleneck features from a different pre-trained model.  To make things easier for you, we have pre-computed the features for all of the networks that are currently available in Keras:\n",
    "- [VGG-19](https://s3-us-west-1.amazonaws.com/udacity-aind/dog-project/DogVGG19Data.npz) bottleneck features\n",
    "- [ResNet-50](https://s3-us-west-1.amazonaws.com/udacity-aind/dog-project/DogResnet50Data.npz) bottleneck features\n",
    "- [Inception](https://s3-us-west-1.amazonaws.com/udacity-aind/dog-project/DogInceptionV3Data.npz) bottleneck features\n",
    "- [Xception](https://s3-us-west-1.amazonaws.com/udacity-aind/dog-project/DogXceptionData.npz) bottleneck features\n",
    "\n",
    "The files are encoded as such:\n",
    "\n",
    "    Dog{network}Data.npz\n",
    "    \n",
    "where `{network}`, in the above filename, can be one of `VGG19`, `Resnet50`, `InceptionV3`, or `Xception`.  Pick one of the above architectures, download the corresponding bottleneck features, and store the downloaded file in the `bottleneck_features/` folder in the repository.\n",
    "\n",
    "### (IMPLEMENTATION) Obtain Bottleneck Features\n",
    "\n",
    "In the code block below, extract the bottleneck features corresponding to the train, test, and validation sets by running the following:\n",
    "\n",
    "    bottleneck_features = np.load('bottleneck_features/Dog{network}Data.npz')\n",
    "    train_{network} = bottleneck_features['train']\n",
    "    valid_{network} = bottleneck_features['valid']\n",
    "    test_{network} = bottleneck_features['test']"
   ]
  },
  {
   "cell_type": "code",
   "execution_count": 87,
   "metadata": {},
   "outputs": [],
   "source": [
    "### Tain bottleneck features from another pre-trained CNN.\n",
    "bottleneck_features = np.load('bottleneck_features/DogResnet50Data.npz')\n",
    "train_Resnet50  = bottleneck_features['train']\n",
    "valid_Resnet50 = bottleneck_features['valid']\n",
    "test_Resnet50 = bottleneck_features['test']"
   ]
  },
  {
   "cell_type": "markdown",
   "metadata": {},
   "source": [
    "### (IMPLEMENTATION) Model Architecture\n",
    "\n",
    "Create a CNN to classify dog breed.  At the end of your code cell block, summarize the layers of your model by executing the line:\n",
    "    \n",
    "        <your model's name>.summary()\n",
    "   \n",
    "__Question 5:__ Outline the steps you took to get to your final CNN architecture and your reasoning at each step.  Describe why you think the architecture is suitable for the current problem.\n",
    "\n",
    "__Answer:__ \n",
    "\n"
   ]
  },
  {
   "cell_type": "code",
   "execution_count": 88,
   "metadata": {},
   "outputs": [
    {
     "data": {
      "text/plain": [
       "(6680, 1, 1, 2048)"
      ]
     },
     "execution_count": 88,
     "metadata": {},
     "output_type": "execute_result"
    }
   ],
   "source": [
    "train_Resnet50.shape"
   ]
  },
  {
   "cell_type": "code",
   "execution_count": 146,
   "metadata": {},
   "outputs": [
    {
     "name": "stdout",
     "output_type": "stream",
     "text": [
      "_________________________________________________________________\n",
      "Layer (type)                 Output Shape              Param #   \n",
      "=================================================================\n",
      "flatten_37 (Flatten)         (None, 2048)              0         \n",
      "_________________________________________________________________\n",
      "dropout_53 (Dropout)         (None, 2048)              0         \n",
      "_________________________________________________________________\n",
      "dense_48 (Dense)             (None, 133)               272517    \n",
      "=================================================================\n",
      "Total params: 272,517\n",
      "Trainable params: 272,517\n",
      "Non-trainable params: 0\n",
      "_________________________________________________________________\n"
     ]
    }
   ],
   "source": [
    "from keras import regularizers\n",
    "\n",
    "### Define your architecture.\n",
    "Resnet50_model = Sequential()\n",
    "Resnet50_model.add(Flatten(input_shape=train_Resnet50.shape[1:]))\n",
    "Resnet50_model.add(Dropout(0.05))\n",
    "Resnet50_model.add(\n",
    "    Dense(\n",
    "        133,\n",
    "        activation='softmax',\n",
    "        kernel_regularizer=regularizers.l1(0.0001),\n",
    "        bias_regularizer=regularizers.l1(0.0001)\n",
    "    )\n",
    ")\n",
    "Resnet50_model.summary()"
   ]
  },
  {
   "cell_type": "markdown",
   "metadata": {},
   "source": [
    "### (IMPLEMENTATION) Compile the Model"
   ]
  },
  {
   "cell_type": "code",
   "execution_count": 147,
   "metadata": {
    "collapsed": true
   },
   "outputs": [],
   "source": [
    "### Compile the model.\n",
    "Resnet50_model.compile(loss='categorical_crossentropy', optimizer='rmsprop', metrics=['accuracy'])"
   ]
  },
  {
   "cell_type": "markdown",
   "metadata": {},
   "source": [
    "### (IMPLEMENTATION) Train the Model\n",
    "\n",
    "Train your model in the code cell below.  Use model checkpointing to save the model that attains the best validation loss.  \n",
    "\n",
    "You are welcome to [augment the training data](https://blog.keras.io/building-powerful-image-classification-models-using-very-little-data.html), but this is not a requirement. "
   ]
  },
  {
   "cell_type": "code",
   "execution_count": 148,
   "metadata": {
    "scrolled": false
   },
   "outputs": [
    {
     "name": "stdout",
     "output_type": "stream",
     "text": [
      "Train on 6680 samples, validate on 835 samples\n",
      "Epoch 1/100\n",
      "6480/6680 [============================>.] - ETA: 0s - loss: 2.5358 - acc: 0.5829Epoch 00000: val_loss improved from inf to 1.77790, saving model to saved_models/weights.best.Resnet50.hdf5\n",
      "6680/6680 [==============================] - 3s - loss: 2.5186 - acc: 0.5868 - val_loss: 1.7779 - val_acc: 0.7629\n",
      "Epoch 2/100\n",
      "6480/6680 [============================>.] - ETA: 0s - loss: 1.4957 - acc: 0.8498Epoch 00001: val_loss improved from 1.77790 to 1.69937, saving model to saved_models/weights.best.Resnet50.hdf5\n",
      "6680/6680 [==============================] - 1s - loss: 1.4959 - acc: 0.8503 - val_loss: 1.6994 - val_acc: 0.7916\n",
      "Epoch 3/100\n",
      "6460/6680 [============================>.] - ETA: 0s - loss: 1.3629 - acc: 0.8998Epoch 00002: val_loss improved from 1.69937 to 1.66292, saving model to saved_models/weights.best.Resnet50.hdf5\n",
      "6680/6680 [==============================] - 1s - loss: 1.3637 - acc: 0.8996 - val_loss: 1.6629 - val_acc: 0.7988\n",
      "Epoch 4/100\n",
      "6480/6680 [============================>.] - ETA: 0s - loss: 1.2812 - acc: 0.9198Epoch 00003: val_loss improved from 1.66292 to 1.63444, saving model to saved_models/weights.best.Resnet50.hdf5\n",
      "6680/6680 [==============================] - 1s - loss: 1.2798 - acc: 0.9204 - val_loss: 1.6344 - val_acc: 0.8180\n",
      "Epoch 5/100\n",
      "6460/6680 [============================>.] - ETA: 0s - loss: 1.2228 - acc: 0.9368Epoch 00004: val_loss improved from 1.63444 to 1.63276, saving model to saved_models/weights.best.Resnet50.hdf5\n",
      "6680/6680 [==============================] - 1s - loss: 1.2227 - acc: 0.9365 - val_loss: 1.6328 - val_acc: 0.7964\n",
      "Epoch 6/100\n",
      "6440/6680 [===========================>..] - ETA: 0s - loss: 1.1853 - acc: 0.9418Epoch 00005: val_loss improved from 1.63276 to 1.58066, saving model to saved_models/weights.best.Resnet50.hdf5\n",
      "6680/6680 [==============================] - 1s - loss: 1.1864 - acc: 0.9412 - val_loss: 1.5807 - val_acc: 0.8180\n",
      "Epoch 7/100\n",
      "6660/6680 [============================>.] - ETA: 0s - loss: 1.1544 - acc: 0.9464Epoch 00006: val_loss did not improve\n",
      "6680/6680 [==============================] - 1s - loss: 1.1545 - acc: 0.9463 - val_loss: 1.5841 - val_acc: 0.8084\n",
      "Epoch 8/100\n",
      "6440/6680 [===========================>..] - ETA: 0s - loss: 1.1390 - acc: 0.9561Epoch 00007: val_loss improved from 1.58066 to 1.57595, saving model to saved_models/weights.best.Resnet50.hdf5\n",
      "6680/6680 [==============================] - 1s - loss: 1.1386 - acc: 0.9558 - val_loss: 1.5759 - val_acc: 0.8120\n",
      "Epoch 9/100\n",
      "6440/6680 [===========================>..] - ETA: 0s - loss: 1.1257 - acc: 0.9553Epoch 00008: val_loss did not improve\n",
      "6680/6680 [==============================] - 1s - loss: 1.1255 - acc: 0.9552 - val_loss: 1.6470 - val_acc: 0.7952\n",
      "Epoch 10/100\n",
      "6460/6680 [============================>.] - ETA: 0s - loss: 1.1096 - acc: 0.9576Epoch 00009: val_loss improved from 1.57595 to 1.53168, saving model to saved_models/weights.best.Resnet50.hdf5\n",
      "6680/6680 [==============================] - 1s - loss: 1.1113 - acc: 0.9569 - val_loss: 1.5317 - val_acc: 0.8395\n",
      "Epoch 11/100\n",
      "6480/6680 [============================>.] - ETA: 0s - loss: 1.1064 - acc: 0.9591Epoch 00010: val_loss did not improve\n",
      "6680/6680 [==============================] - 1s - loss: 1.1072 - acc: 0.9588 - val_loss: 1.5604 - val_acc: 0.8108\n",
      "Epoch 12/100\n",
      "6460/6680 [============================>.] - ETA: 0s - loss: 1.0959 - acc: 0.9607Epoch 00011: val_loss did not improve\n",
      "6680/6680 [==============================] - 1s - loss: 1.0991 - acc: 0.9596 - val_loss: 1.5745 - val_acc: 0.8132\n",
      "Epoch 13/100\n",
      "6460/6680 [============================>.] - ETA: 0s - loss: 1.1031 - acc: 0.9601Epoch 00012: val_loss improved from 1.53168 to 1.52811, saving model to saved_models/weights.best.Resnet50.hdf5\n",
      "6680/6680 [==============================] - 1s - loss: 1.1039 - acc: 0.9594 - val_loss: 1.5281 - val_acc: 0.8335\n",
      "Epoch 14/100\n",
      "6640/6680 [============================>.] - ETA: 0s - loss: 1.1042 - acc: 0.9587Epoch 00013: val_loss did not improve\n",
      "6680/6680 [==============================] - 1s - loss: 1.1037 - acc: 0.9590 - val_loss: 1.5919 - val_acc: 0.8120\n",
      "Epoch 15/100\n",
      "6460/6680 [============================>.] - ETA: 0s - loss: 1.1015 - acc: 0.9615Epoch 00014: val_loss did not improve\n",
      "6680/6680 [==============================] - 1s - loss: 1.1017 - acc: 0.9617 - val_loss: 1.5636 - val_acc: 0.8132\n",
      "Epoch 16/100\n",
      "6620/6680 [============================>.] - ETA: 0s - loss: 1.1061 - acc: 0.9645Epoch 00015: val_loss did not improve\n",
      "6680/6680 [==============================] - 1s - loss: 1.1061 - acc: 0.9645 - val_loss: 1.5924 - val_acc: 0.8216\n",
      "Epoch 17/100\n",
      "6460/6680 [============================>.] - ETA: 0s - loss: 1.1121 - acc: 0.9598Epoch 00016: val_loss did not improve\n",
      "6680/6680 [==============================] - 1s - loss: 1.1121 - acc: 0.9602 - val_loss: 1.5917 - val_acc: 0.8084\n",
      "Epoch 18/100\n",
      "6440/6680 [===========================>..] - ETA: 0s - loss: 1.1108 - acc: 0.9624Epoch 00017: val_loss did not improve\n",
      "6680/6680 [==============================] - 1s - loss: 1.1123 - acc: 0.9620 - val_loss: 1.6066 - val_acc: 0.8240\n",
      "Epoch 19/100\n",
      "6480/6680 [============================>.] - ETA: 0s - loss: 1.1206 - acc: 0.9620Epoch 00018: val_loss did not improve\n",
      "6680/6680 [==============================] - 1s - loss: 1.1224 - acc: 0.9612 - val_loss: 1.6132 - val_acc: 0.8156\n",
      "Epoch 20/100\n",
      "6440/6680 [===========================>..] - ETA: 0s - loss: 1.1271 - acc: 0.9635Epoch 00019: val_loss did not improve\n",
      "6680/6680 [==============================] - 1s - loss: 1.1265 - acc: 0.9635 - val_loss: 1.5999 - val_acc: 0.8228\n",
      "Epoch 21/100\n",
      "6480/6680 [============================>.] - ETA: 0s - loss: 1.1366 - acc: 0.9620Epoch 00020: val_loss did not improve\n",
      "6680/6680 [==============================] - 1s - loss: 1.1357 - acc: 0.9623 - val_loss: 1.6132 - val_acc: 0.8156\n",
      "Epoch 22/100\n",
      "6640/6680 [============================>.] - ETA: 0s - loss: 1.1483 - acc: 0.9584Epoch 00021: val_loss did not improve\n",
      "6680/6680 [==============================] - 1s - loss: 1.1478 - acc: 0.9587 - val_loss: 1.6249 - val_acc: 0.8120\n",
      "Epoch 23/100\n",
      "6480/6680 [============================>.] - ETA: 0s - loss: 1.1436 - acc: 0.9640Epoch 00022: val_loss did not improve\n",
      "6680/6680 [==============================] - 1s - loss: 1.1445 - acc: 0.9641 - val_loss: 1.6871 - val_acc: 0.8120\n",
      "Epoch 24/100\n",
      "6660/6680 [============================>.] - ETA: 0s - loss: 1.1529 - acc: 0.9626Epoch 00023: val_loss did not improve\n",
      "6680/6680 [==============================] - 1s - loss: 1.1528 - acc: 0.9626 - val_loss: 1.6163 - val_acc: 0.8156\n",
      "Epoch 25/100\n",
      "6440/6680 [===========================>..] - ETA: 0s - loss: 1.1572 - acc: 0.9616Epoch 00024: val_loss did not improve\n",
      "6680/6680 [==============================] - 1s - loss: 1.1590 - acc: 0.9611 - val_loss: 1.6200 - val_acc: 0.8192\n",
      "Epoch 26/100\n",
      "6480/6680 [============================>.] - ETA: 0s - loss: 1.1747 - acc: 0.9613Epoch 00025: val_loss did not improve\n",
      "6680/6680 [==============================] - 1s - loss: 1.1755 - acc: 0.9608 - val_loss: 1.6612 - val_acc: 0.8096\n",
      "Epoch 27/100\n",
      "6480/6680 [============================>.] - ETA: 0s - loss: 1.1703 - acc: 0.9627Epoch 00026: val_loss did not improve\n",
      "6680/6680 [==============================] - 1s - loss: 1.1736 - acc: 0.9617 - val_loss: 1.6668 - val_acc: 0.8168\n",
      "Epoch 28/100\n",
      "6460/6680 [============================>.] - ETA: 0s - loss: 1.1780 - acc: 0.9621Epoch 00027: val_loss did not improve\n",
      "6680/6680 [==============================] - 1s - loss: 1.1791 - acc: 0.9617 - val_loss: 1.7107 - val_acc: 0.8144\n",
      "Epoch 29/100\n",
      "6460/6680 [============================>.] - ETA: 0s - loss: 1.1885 - acc: 0.9616Epoch 00028: val_loss did not improve\n",
      "6680/6680 [==============================] - 1s - loss: 1.1883 - acc: 0.9614 - val_loss: 1.6741 - val_acc: 0.8024\n",
      "Epoch 30/100\n",
      "6480/6680 [============================>.] - ETA: 0s - loss: 1.1909 - acc: 0.9625Epoch 00029: val_loss did not improve\n",
      "6680/6680 [==============================] - 1s - loss: 1.1904 - acc: 0.9627 - val_loss: 1.7338 - val_acc: 0.8060\n",
      "Epoch 31/100\n",
      "6460/6680 [============================>.] - ETA: 0s - loss: 1.2010 - acc: 0.9605Epoch 00030: val_loss did not improve\n"
     ]
    },
    {
     "name": "stdout",
     "output_type": "stream",
     "text": [
      "6680/6680 [==============================] - 1s - loss: 1.2022 - acc: 0.9596 - val_loss: 1.7030 - val_acc: 0.8120\n",
      "Epoch 32/100\n",
      "6480/6680 [============================>.] - ETA: 0s - loss: 1.2036 - acc: 0.9628Epoch 00031: val_loss did not improve\n",
      "6680/6680 [==============================] - 1s - loss: 1.2048 - acc: 0.9627 - val_loss: 1.7064 - val_acc: 0.8180\n",
      "Epoch 33/100\n",
      "6480/6680 [============================>.] - ETA: 0s - loss: 1.2090 - acc: 0.9636Epoch 00032: val_loss did not improve\n",
      "6680/6680 [==============================] - 1s - loss: 1.2102 - acc: 0.9633 - val_loss: 1.7287 - val_acc: 0.8156\n",
      "Epoch 34/100\n",
      "6500/6680 [============================>.] - ETA: 0s - loss: 1.2293 - acc: 0.9582Epoch 00033: val_loss did not improve\n",
      "6680/6680 [==============================] - 1s - loss: 1.2296 - acc: 0.9582 - val_loss: 1.7103 - val_acc: 0.8168\n",
      "Epoch 35/100\n",
      "6460/6680 [============================>.] - ETA: 0s - loss: 1.2317 - acc: 0.9619Epoch 00034: val_loss did not improve\n",
      "6680/6680 [==============================] - 1s - loss: 1.2331 - acc: 0.9614 - val_loss: 1.7474 - val_acc: 0.8084\n",
      "Epoch 36/100\n",
      "6440/6680 [===========================>..] - ETA: 0s - loss: 1.2413 - acc: 0.9623Epoch 00035: val_loss did not improve\n",
      "6680/6680 [==============================] - 1s - loss: 1.2439 - acc: 0.9620 - val_loss: 1.7588 - val_acc: 0.8192\n",
      "Epoch 37/100\n",
      "6480/6680 [============================>.] - ETA: 0s - loss: 1.2535 - acc: 0.9573Epoch 00036: val_loss did not improve\n",
      "6680/6680 [==============================] - 1s - loss: 1.2530 - acc: 0.9573 - val_loss: 1.7536 - val_acc: 0.8192\n",
      "Epoch 38/100\n",
      "6500/6680 [============================>.] - ETA: 0s - loss: 1.2600 - acc: 0.9617Epoch 00037: val_loss did not improve\n",
      "6680/6680 [==============================] - 1s - loss: 1.2610 - acc: 0.9614 - val_loss: 1.8282 - val_acc: 0.8072\n",
      "Epoch 39/100\n",
      "6480/6680 [============================>.] - ETA: 0s - loss: 1.2650 - acc: 0.9599Epoch 00038: val_loss did not improve\n",
      "6680/6680 [==============================] - 1s - loss: 1.2661 - acc: 0.9596 - val_loss: 1.7553 - val_acc: 0.8144\n",
      "Epoch 40/100\n",
      "6480/6680 [============================>.] - ETA: 0s - loss: 1.2740 - acc: 0.9586Epoch 00039: val_loss did not improve\n",
      "6680/6680 [==============================] - 1s - loss: 1.2755 - acc: 0.9587 - val_loss: 1.7889 - val_acc: 0.8180\n",
      "Epoch 41/100\n",
      "6460/6680 [============================>.] - ETA: 0s - loss: 1.2799 - acc: 0.9590Epoch 00040: val_loss did not improve\n",
      "6680/6680 [==============================] - 1s - loss: 1.2836 - acc: 0.9579 - val_loss: 1.8354 - val_acc: 0.7916\n",
      "Epoch 42/100\n",
      "6500/6680 [============================>.] - ETA: 0s - loss: 1.2856 - acc: 0.9646Epoch 00041: val_loss did not improve\n",
      "6680/6680 [==============================] - 1s - loss: 1.2866 - acc: 0.9639 - val_loss: 1.8380 - val_acc: 0.7976\n",
      "Epoch 43/100\n",
      "6480/6680 [============================>.] - ETA: 0s - loss: 1.3008 - acc: 0.9580Epoch 00042: val_loss did not improve\n",
      "6680/6680 [==============================] - 1s - loss: 1.3006 - acc: 0.9579 - val_loss: 1.8186 - val_acc: 0.8144\n",
      "Epoch 44/100\n",
      "6440/6680 [===========================>..] - ETA: 0s - loss: 1.3095 - acc: 0.9595Epoch 00043: val_loss did not improve\n",
      "6680/6680 [==============================] - 1s - loss: 1.3078 - acc: 0.9600 - val_loss: 1.8231 - val_acc: 0.8072\n",
      "Epoch 45/100\n",
      "6460/6680 [============================>.] - ETA: 0s - loss: 1.3144 - acc: 0.9574Epoch 00044: val_loss did not improve\n",
      "6680/6680 [==============================] - 1s - loss: 1.3164 - acc: 0.9563 - val_loss: 1.8552 - val_acc: 0.8048\n",
      "Epoch 46/100\n",
      "6460/6680 [============================>.] - ETA: 0s - loss: 1.3249 - acc: 0.9596Epoch 00045: val_loss did not improve\n",
      "6680/6680 [==============================] - 1s - loss: 1.3254 - acc: 0.9588 - val_loss: 1.8748 - val_acc: 0.8036\n",
      "Epoch 47/100\n",
      "6460/6680 [============================>.] - ETA: 0s - loss: 1.3310 - acc: 0.9601Epoch 00046: val_loss did not improve\n",
      "6680/6680 [==============================] - 1s - loss: 1.3308 - acc: 0.9602 - val_loss: 1.8535 - val_acc: 0.7928\n",
      "Epoch 48/100\n",
      "6660/6680 [============================>.] - ETA: 0s - loss: 1.3383 - acc: 0.9590Epoch 00047: val_loss did not improve\n",
      "6680/6680 [==============================] - 1s - loss: 1.3379 - acc: 0.9591 - val_loss: 1.8576 - val_acc: 0.8108\n",
      "Epoch 49/100\n",
      "6500/6680 [============================>.] - ETA: 0s - loss: 1.3424 - acc: 0.9600Epoch 00048: val_loss did not improve\n",
      "6680/6680 [==============================] - 1s - loss: 1.3439 - acc: 0.9591 - val_loss: 1.8899 - val_acc: 0.7928\n",
      "Epoch 50/100\n",
      "6480/6680 [============================>.] - ETA: 0s - loss: 1.3510 - acc: 0.9611Epoch 00049: val_loss did not improve\n",
      "6680/6680 [==============================] - 1s - loss: 1.3493 - acc: 0.9614 - val_loss: 1.9021 - val_acc: 0.8048\n",
      "Epoch 51/100\n",
      "6480/6680 [============================>.] - ETA: 0s - loss: 1.3494 - acc: 0.9606Epoch 00050: val_loss did not improve\n",
      "6680/6680 [==============================] - 1s - loss: 1.3511 - acc: 0.9600 - val_loss: 1.8829 - val_acc: 0.8060\n",
      "Epoch 52/100\n",
      "6480/6680 [============================>.] - ETA: 0s - loss: 1.3657 - acc: 0.9590Epoch 00051: val_loss did not improve\n",
      "6680/6680 [==============================] - 1s - loss: 1.3652 - acc: 0.9587 - val_loss: 1.9260 - val_acc: 0.8012\n",
      "Epoch 53/100\n",
      "6480/6680 [============================>.] - ETA: 0s - loss: 1.3772 - acc: 0.9576Epoch 00052: val_loss did not improve\n",
      "6680/6680 [==============================] - 1s - loss: 1.3784 - acc: 0.9566 - val_loss: 1.9172 - val_acc: 0.7964\n",
      "Epoch 54/100\n",
      "6460/6680 [============================>.] - ETA: 0s - loss: 1.3805 - acc: 0.9608Epoch 00053: val_loss did not improve\n",
      "6680/6680 [==============================] - 1s - loss: 1.3806 - acc: 0.9605 - val_loss: 1.8910 - val_acc: 0.8048\n",
      "Epoch 55/100\n",
      "6460/6680 [============================>.] - ETA: 0s - loss: 1.3865 - acc: 0.9584Epoch 00054: val_loss did not improve\n",
      "6680/6680 [==============================] - 1s - loss: 1.3862 - acc: 0.9588 - val_loss: 1.9280 - val_acc: 0.7952\n",
      "Epoch 56/100\n",
      "6440/6680 [===========================>..] - ETA: 0s - loss: 1.4011 - acc: 0.9571Epoch 00055: val_loss did not improve\n",
      "6680/6680 [==============================] - 1s - loss: 1.3998 - acc: 0.9576 - val_loss: 1.9206 - val_acc: 0.8072\n",
      "Epoch 57/100\n",
      "6460/6680 [============================>.] - ETA: 0s - loss: 1.4119 - acc: 0.9557Epoch 00056: val_loss did not improve\n",
      "6680/6680 [==============================] - 1s - loss: 1.4107 - acc: 0.9561 - val_loss: 1.9636 - val_acc: 0.8096\n",
      "Epoch 58/100\n",
      "6440/6680 [===========================>..] - ETA: 0s - loss: 1.4181 - acc: 0.9520Epoch 00057: val_loss did not improve\n",
      "6680/6680 [==============================] - 1s - loss: 1.4179 - acc: 0.9521 - val_loss: 1.9401 - val_acc: 0.7928\n",
      "Epoch 59/100\n",
      "6460/6680 [============================>.] - ETA: 0s - loss: 1.4239 - acc: 0.9574Epoch 00058: val_loss did not improve\n",
      "6680/6680 [==============================] - 1s - loss: 1.4248 - acc: 0.9566 - val_loss: 1.9551 - val_acc: 0.8084\n",
      "Epoch 60/100\n",
      "6660/6680 [============================>.] - ETA: 0s - loss: 1.4272 - acc: 0.9560Epoch 00059: val_loss did not improve\n",
      "6680/6680 [==============================] - 1s - loss: 1.4275 - acc: 0.9558 - val_loss: 1.9821 - val_acc: 0.8072\n",
      "Epoch 61/100\n",
      "6440/6680 [===========================>..] - ETA: 0s - loss: 1.4387 - acc: 0.9559Epoch 00060: val_loss did not improve\n",
      "6680/6680 [==============================] - 1s - loss: 1.4396 - acc: 0.9561 - val_loss: 2.0399 - val_acc: 0.8000\n",
      "Epoch 62/100\n",
      "6460/6680 [============================>.] - ETA: 0s - loss: 1.4392 - acc: 0.9580Epoch 00061: val_loss did not improve\n",
      "6680/6680 [==============================] - 1s - loss: 1.4402 - acc: 0.9582 - val_loss: 1.9684 - val_acc: 0.8084\n",
      "Epoch 63/100\n",
      "6500/6680 [============================>.] - ETA: 0s - loss: 1.4485 - acc: 0.9566Epoch 00062: val_loss did not improve\n",
      "6680/6680 [==============================] - 1s - loss: 1.4488 - acc: 0.9567 - val_loss: 2.0007 - val_acc: 0.8000\n",
      "Epoch 64/100\n",
      "6480/6680 [============================>.] - ETA: 0s - loss: 1.4516 - acc: 0.9573Epoch 00063: val_loss did not improve\n"
     ]
    },
    {
     "name": "stdout",
     "output_type": "stream",
     "text": [
      "6680/6680 [==============================] - 1s - loss: 1.4516 - acc: 0.9564 - val_loss: 2.0109 - val_acc: 0.8024\n",
      "Epoch 65/100\n",
      "6480/6680 [============================>.] - ETA: 0s - loss: 1.4611 - acc: 0.9517Epoch 00064: val_loss did not improve\n",
      "6680/6680 [==============================] - 1s - loss: 1.4610 - acc: 0.9521 - val_loss: 2.0228 - val_acc: 0.7904\n",
      "Epoch 66/100\n",
      "6440/6680 [===========================>..] - ETA: 0s - loss: 1.4612 - acc: 0.9578Epoch 00065: val_loss did not improve\n",
      "6680/6680 [==============================] - 1s - loss: 1.4633 - acc: 0.9570 - val_loss: 2.0453 - val_acc: 0.7964\n",
      "Epoch 67/100\n",
      "6440/6680 [===========================>..] - ETA: 0s - loss: 1.4731 - acc: 0.9550Epoch 00066: val_loss did not improve\n",
      "6680/6680 [==============================] - 1s - loss: 1.4751 - acc: 0.9542 - val_loss: 2.0270 - val_acc: 0.7952\n",
      "Epoch 68/100\n",
      "6460/6680 [============================>.] - ETA: 0s - loss: 1.4887 - acc: 0.9543Epoch 00067: val_loss did not improve\n",
      "6680/6680 [==============================] - 1s - loss: 1.4878 - acc: 0.9548 - val_loss: 1.9874 - val_acc: 0.8096\n",
      "Epoch 69/100\n",
      "6480/6680 [============================>.] - ETA: 0s - loss: 1.5015 - acc: 0.9531Epoch 00068: val_loss did not improve\n",
      "6680/6680 [==============================] - 1s - loss: 1.5006 - acc: 0.9530 - val_loss: 2.0601 - val_acc: 0.7952\n",
      "Epoch 70/100\n",
      "6500/6680 [============================>.] - ETA: 0s - loss: 1.4887 - acc: 0.9585Epoch 00069: val_loss did not improve\n",
      "6680/6680 [==============================] - 1s - loss: 1.4918 - acc: 0.9576 - val_loss: 2.0523 - val_acc: 0.8012\n",
      "Epoch 71/100\n",
      "6460/6680 [============================>.] - ETA: 0s - loss: 1.4939 - acc: 0.9570Epoch 00070: val_loss did not improve\n",
      "6680/6680 [==============================] - 1s - loss: 1.4952 - acc: 0.9564 - val_loss: 2.0514 - val_acc: 0.7952\n",
      "Epoch 72/100\n",
      "6480/6680 [============================>.] - ETA: 0s - loss: 1.5122 - acc: 0.9515Epoch 00071: val_loss did not improve\n",
      "6680/6680 [==============================] - 1s - loss: 1.5124 - acc: 0.9515 - val_loss: 2.0729 - val_acc: 0.8012\n",
      "Epoch 73/100\n",
      "6620/6680 [============================>.] - ETA: 0s - loss: 1.5238 - acc: 0.9550Epoch 00072: val_loss did not improve\n",
      "6680/6680 [==============================] - 1s - loss: 1.5237 - acc: 0.9552 - val_loss: 2.0988 - val_acc: 0.8060\n",
      "Epoch 74/100\n",
      "6460/6680 [============================>.] - ETA: 0s - loss: 1.5263 - acc: 0.9587Epoch 00073: val_loss did not improve\n",
      "6680/6680 [==============================] - 1s - loss: 1.5267 - acc: 0.9587 - val_loss: 2.0940 - val_acc: 0.7892\n",
      "Epoch 75/100\n",
      "6500/6680 [============================>.] - ETA: 0s - loss: 1.5367 - acc: 0.9538Epoch 00074: val_loss did not improve\n",
      "6680/6680 [==============================] - 1s - loss: 1.5378 - acc: 0.9536 - val_loss: 2.1230 - val_acc: 0.7976\n",
      "Epoch 76/100\n",
      "6500/6680 [============================>.] - ETA: 0s - loss: 1.5523 - acc: 0.9522Epoch 00075: val_loss did not improve\n",
      "6680/6680 [==============================] - 1s - loss: 1.5532 - acc: 0.9522 - val_loss: 2.1085 - val_acc: 0.7892\n",
      "Epoch 77/100\n",
      "6480/6680 [============================>.] - ETA: 0s - loss: 1.5572 - acc: 0.9512Epoch 00076: val_loss did not improve\n",
      "6680/6680 [==============================] - 1s - loss: 1.5569 - acc: 0.9513 - val_loss: 2.1144 - val_acc: 0.8060\n",
      "Epoch 78/100\n",
      "6500/6680 [============================>.] - ETA: 0s - loss: 1.5560 - acc: 0.9543Epoch 00077: val_loss did not improve\n",
      "6680/6680 [==============================] - 1s - loss: 1.5553 - acc: 0.9549 - val_loss: 2.1464 - val_acc: 0.7928\n",
      "Epoch 79/100\n",
      "6440/6680 [===========================>..] - ETA: 0s - loss: 1.5691 - acc: 0.9492Epoch 00078: val_loss did not improve\n",
      "6680/6680 [==============================] - 1s - loss: 1.5690 - acc: 0.9497 - val_loss: 2.1141 - val_acc: 0.8000\n",
      "Epoch 80/100\n",
      "6660/6680 [============================>.] - ETA: 0s - loss: 1.5690 - acc: 0.9563Epoch 00079: val_loss did not improve\n",
      "6680/6680 [==============================] - 1s - loss: 1.5689 - acc: 0.9563 - val_loss: 2.1406 - val_acc: 0.8000\n",
      "Epoch 81/100\n",
      "6460/6680 [============================>.] - ETA: 0s - loss: 1.5727 - acc: 0.9550Epoch 00080: val_loss did not improve\n",
      "6680/6680 [==============================] - 1s - loss: 1.5739 - acc: 0.9543 - val_loss: 2.1506 - val_acc: 0.7868\n",
      "Epoch 82/100\n",
      "6460/6680 [============================>.] - ETA: 0s - loss: 1.5872 - acc: 0.9509Epoch 00081: val_loss did not improve\n",
      "6680/6680 [==============================] - 1s - loss: 1.5870 - acc: 0.9507 - val_loss: 2.1570 - val_acc: 0.7916\n",
      "Epoch 83/100\n",
      "6480/6680 [============================>.] - ETA: 0s - loss: 1.5970 - acc: 0.9531Epoch 00082: val_loss did not improve\n",
      "6680/6680 [==============================] - 1s - loss: 1.5959 - acc: 0.9534 - val_loss: 2.1444 - val_acc: 0.7916\n",
      "Epoch 84/100\n",
      "6440/6680 [===========================>..] - ETA: 0s - loss: 1.5956 - acc: 0.9512Epoch 00083: val_loss did not improve\n",
      "6680/6680 [==============================] - 1s - loss: 1.5941 - acc: 0.9519 - val_loss: 2.2013 - val_acc: 0.8144\n",
      "Epoch 85/100\n",
      "6660/6680 [============================>.] - ETA: 0s - loss: 1.6051 - acc: 0.9541Epoch 00084: val_loss did not improve\n",
      "6680/6680 [==============================] - 1s - loss: 1.6053 - acc: 0.9540 - val_loss: 2.1543 - val_acc: 0.7988\n",
      "Epoch 86/100\n",
      "6460/6680 [============================>.] - ETA: 0s - loss: 1.6069 - acc: 0.9540Epoch 00085: val_loss did not improve\n",
      "6680/6680 [==============================] - 1s - loss: 1.6095 - acc: 0.9536 - val_loss: 2.2236 - val_acc: 0.7784\n",
      "Epoch 87/100\n",
      "6480/6680 [============================>.] - ETA: 0s - loss: 1.6197 - acc: 0.9528Epoch 00086: val_loss did not improve\n",
      "6680/6680 [==============================] - 1s - loss: 1.6212 - acc: 0.9522 - val_loss: 2.2319 - val_acc: 0.7892\n",
      "Epoch 88/100\n",
      "6460/6680 [============================>.] - ETA: 0s - loss: 1.6273 - acc: 0.9497Epoch 00087: val_loss did not improve\n",
      "6680/6680 [==============================] - 1s - loss: 1.6281 - acc: 0.9500 - val_loss: 2.2083 - val_acc: 0.7940\n",
      "Epoch 89/100\n",
      "6660/6680 [============================>.] - ETA: 0s - loss: 1.6403 - acc: 0.9471Epoch 00088: val_loss did not improve\n",
      "6680/6680 [==============================] - 1s - loss: 1.6405 - acc: 0.9472 - val_loss: 2.1946 - val_acc: 0.7904\n",
      "Epoch 90/100\n",
      "6480/6680 [============================>.] - ETA: 0s - loss: 1.6371 - acc: 0.9525Epoch 00089: val_loss did not improve\n",
      "6680/6680 [==============================] - 1s - loss: 1.6364 - acc: 0.9527 - val_loss: 2.1857 - val_acc: 0.7940\n",
      "Epoch 91/100\n",
      "6460/6680 [============================>.] - ETA: 0s - loss: 1.6406 - acc: 0.9531Epoch 00090: val_loss did not improve\n",
      "6680/6680 [==============================] - 1s - loss: 1.6397 - acc: 0.9533 - val_loss: 2.2057 - val_acc: 0.8000\n",
      "Epoch 92/100\n",
      "6660/6680 [============================>.] - ETA: 0s - loss: 1.6460 - acc: 0.9511Epoch 00091: val_loss did not improve\n",
      "6680/6680 [==============================] - 1s - loss: 1.6462 - acc: 0.9510 - val_loss: 2.2380 - val_acc: 0.7904\n",
      "Epoch 93/100\n",
      "6460/6680 [============================>.] - ETA: 0s - loss: 1.6435 - acc: 0.9568Epoch 00092: val_loss did not improve\n",
      "6680/6680 [==============================] - 1s - loss: 1.6437 - acc: 0.9563 - val_loss: 2.2701 - val_acc: 0.7928\n",
      "Epoch 94/100\n",
      "6480/6680 [============================>.] - ETA: 0s - loss: 1.6638 - acc: 0.9523Epoch 00093: val_loss did not improve\n",
      "6680/6680 [==============================] - 1s - loss: 1.6652 - acc: 0.9519 - val_loss: 2.2361 - val_acc: 0.7880\n",
      "Epoch 95/100\n",
      "6440/6680 [===========================>..] - ETA: 0s - loss: 1.6666 - acc: 0.9534Epoch 00094: val_loss did not improve\n",
      "6680/6680 [==============================] - 1s - loss: 1.6690 - acc: 0.9525 - val_loss: 2.2821 - val_acc: 0.7940\n",
      "Epoch 96/100\n",
      "6440/6680 [===========================>..] - ETA: 0s - loss: 1.6893 - acc: 0.9472Epoch 00095: val_loss did not improve\n",
      "6680/6680 [==============================] - 1s - loss: 1.6885 - acc: 0.9478 - val_loss: 2.2731 - val_acc: 0.7904\n",
      "Epoch 97/100\n",
      "6480/6680 [============================>.] - ETA: 0s - loss: 1.6861 - acc: 0.9512Epoch 00096: val_loss did not improve\n"
     ]
    },
    {
     "name": "stdout",
     "output_type": "stream",
     "text": [
      "6680/6680 [==============================] - 1s - loss: 1.6866 - acc: 0.9507 - val_loss: 2.2343 - val_acc: 0.7868\n",
      "Epoch 98/100\n",
      "6660/6680 [============================>.] - ETA: 0s - loss: 1.7032 - acc: 0.9500Epoch 00097: val_loss did not improve\n",
      "6680/6680 [==============================] - 1s - loss: 1.7037 - acc: 0.9497 - val_loss: 2.2422 - val_acc: 0.7952\n",
      "Epoch 99/100\n",
      "6460/6680 [============================>.] - ETA: 0s - loss: 1.6966 - acc: 0.9492Epoch 00098: val_loss did not improve\n",
      "6680/6680 [==============================] - 1s - loss: 1.6985 - acc: 0.9485 - val_loss: 2.2576 - val_acc: 0.7928\n",
      "Epoch 100/100\n",
      "6500/6680 [============================>.] - ETA: 0s - loss: 1.7067 - acc: 0.9498Epoch 00099: val_loss did not improve\n",
      "6680/6680 [==============================] - 1s - loss: 1.7087 - acc: 0.9497 - val_loss: 2.2564 - val_acc: 0.7904\n"
     ]
    },
    {
     "data": {
      "text/plain": [
       "<keras.callbacks.History at 0x7f2bbf166fd0>"
      ]
     },
     "execution_count": 148,
     "metadata": {},
     "output_type": "execute_result"
    }
   ],
   "source": [
    "### Train the model.\n",
    "epochs = 100\n",
    "batch_size = 20\n",
    "\n",
    "checkpointer = ModelCheckpoint(filepath='saved_models/weights.best.Resnet50.hdf5', \n",
    "                               verbose=1, save_best_only=True)\n",
    "\n",
    "Resnet50_model.fit(train_Resnet50, train_targets, \n",
    "          validation_data=(valid_Resnet50, valid_targets),\n",
    "          epochs=epochs, batch_size=batch_size, callbacks=[checkpointer], verbose=1)"
   ]
  },
  {
   "cell_type": "markdown",
   "metadata": {},
   "source": [
    "### (IMPLEMENTATION) Load the Model with the Best Validation Loss"
   ]
  },
  {
   "cell_type": "code",
   "execution_count": 149,
   "metadata": {
    "collapsed": true
   },
   "outputs": [],
   "source": [
    "### Load the model weights with the best validation loss.\n",
    "Resnet50_model.load_weights('saved_models/weights.best.Resnet50.hdf5')"
   ]
  },
  {
   "cell_type": "markdown",
   "metadata": {},
   "source": [
    "### (IMPLEMENTATION) Test the Model\n",
    "\n",
    "Try out your model on the test dataset of dog images. Ensure that your test accuracy is greater than 60%."
   ]
  },
  {
   "cell_type": "code",
   "execution_count": 150,
   "metadata": {},
   "outputs": [
    {
     "name": "stdout",
     "output_type": "stream",
     "text": [
      "Test accuracy: 83.6124%\n"
     ]
    }
   ],
   "source": [
    "### Calculate classification accuracy on the test dataset.\n",
    "Resnet50_predictions = [np.argmax(Resnet50_model.predict(np.expand_dims(feature, axis=0))) for feature in test_Resnet50]\n",
    "\n",
    "# report test accuracy\n",
    "test_accuracy = 100*np.sum(np.array(Resnet50_predictions)==np.argmax(test_targets, axis=1))/len(Resnet50_predictions)\n",
    "print('Test accuracy: %.4f%%' % test_accuracy)"
   ]
  },
  {
   "cell_type": "markdown",
   "metadata": {},
   "source": [
    "### (IMPLEMENTATION) Predict Dog Breed with the Model\n",
    "\n",
    "Write a function that takes an image path as input and returns the dog breed (`Affenpinscher`, `Afghan_hound`, etc) that is predicted by your model.  \n",
    "\n",
    "Similar to the analogous function in Step 5, your function should have three steps:\n",
    "1. Extract the bottleneck features corresponding to the chosen CNN model.\n",
    "2. Supply the bottleneck features as input to the model to return the predicted vector.  Note that the argmax of this prediction vector gives the index of the predicted dog breed.\n",
    "3. Use the `dog_names` array defined in Step 0 of this notebook to return the corresponding breed.\n",
    "\n",
    "The functions to extract the bottleneck features can be found in `extract_bottleneck_features.py`, and they have been imported in an earlier code cell.  To obtain the bottleneck features corresponding to your chosen CNN architecture, you need to use the function\n",
    "\n",
    "    extract_{network}\n",
    "    \n",
    "where `{network}`, in the above filename, should be one of `VGG19`, `Resnet50`, `InceptionV3`, or `Xception`."
   ]
  },
  {
   "cell_type": "code",
   "execution_count": 151,
   "metadata": {
    "collapsed": true
   },
   "outputs": [],
   "source": [
    "### Write a function that takes a path to an image as input\n",
    "### and returns the dog breed that is predicted by the model.\n",
    "\n",
    "from extract_bottleneck_features import *\n",
    "\n",
    "def Resnet50_predict_breed(img_path):\n",
    "    # extract bottleneck features\n",
    "    bottleneck_feature = extract_Resnet50(path_to_tensor(img_path))\n",
    "    # obtain predicted vector\n",
    "    predicted_vector = Resnet50_model.predict(bottleneck_feature)\n",
    "    # return dog breed that is predicted by the model\n",
    "    return dog_names[np.argmax(predicted_vector)]"
   ]
  },
  {
   "cell_type": "markdown",
   "metadata": {},
   "source": [
    "---\n",
    "<a id='step6'></a>\n",
    "## Step 6: Write your Algorithm\n",
    "\n",
    "Write an algorithm that accepts a file path to an image and first determines whether the image contains a human, dog, or neither.  Then,\n",
    "- if a __dog__ is detected in the image, return the predicted breed.\n",
    "- if a __human__ is detected in the image, return the resembling dog breed.\n",
    "- if __neither__ is detected in the image, provide output that indicates an error.\n",
    "\n",
    "You are welcome to write your own functions for detecting humans and dogs in images, but feel free to use the `face_detector` and `human_detector` functions developed above.  You are __required__ to use your CNN from Step 5 to predict dog breed.  \n",
    "\n",
    "Some sample output for our algorithm is provided below, but feel free to design your own user experience!\n",
    "\n",
    "![Sample Human Output](images/sample_human_output.png)\n",
    "\n",
    "\n",
    "### (IMPLEMENTATION) Write your Algorithm"
   ]
  },
  {
   "cell_type": "code",
   "execution_count": null,
   "metadata": {
    "collapsed": true
   },
   "outputs": [],
   "source": [
    "### TODO: Write your algorithm.\n",
    "### Feel free to use as many code cells as needed."
   ]
  },
  {
   "cell_type": "markdown",
   "metadata": {},
   "source": [
    "---\n",
    "<a id='step7'></a>\n",
    "## Step 7: Test Your Algorithm\n",
    "\n",
    "In this section, you will take your new algorithm for a spin!  What kind of dog does the algorithm think that __you__ look like?  If you have a dog, does it predict your dog's breed accurately?  If you have a cat, does it mistakenly think that your cat is a dog?\n",
    "\n",
    "### (IMPLEMENTATION) Test Your Algorithm on Sample Images!\n",
    "\n",
    "Test your algorithm at least six images on your computer.  Feel free to use any images you like.  Use at least two human and two dog images.  \n",
    "\n",
    "__Question 6:__ Is the output better than you expected :) ?  Or worse :( ?  Provide at least three possible points of improvement for your algorithm.\n",
    "\n",
    "__Answer:__ "
   ]
  },
  {
   "cell_type": "code",
   "execution_count": null,
   "metadata": {
    "collapsed": true
   },
   "outputs": [],
   "source": [
    "## TODO: Execute your algorithm from Step 6 on\n",
    "## at least 6 images on your computer.\n",
    "## Feel free to use as many code cells as needed."
   ]
  }
 ],
 "metadata": {
  "anaconda-cloud": {},
  "kernelspec": {
   "display_name": "Python 3",
   "language": "python",
   "name": "python3"
  },
  "language_info": {
   "codemirror_mode": {
    "name": "ipython",
    "version": 3
   },
   "file_extension": ".py",
   "mimetype": "text/x-python",
   "name": "python",
   "nbconvert_exporter": "python",
   "pygments_lexer": "ipython3",
   "version": "3.6.1"
  }
 },
 "nbformat": 4,
 "nbformat_minor": 1
}
